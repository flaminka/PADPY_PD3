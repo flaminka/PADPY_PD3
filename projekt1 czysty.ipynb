{
 "cells": [
  {
   "cell_type": "markdown",
   "metadata": {
    "collapsed": true
   },
   "source": [
    "Importujemy najpierw potrzebne pakiety"
   ]
  },
  {
   "cell_type": "code",
   "execution_count": 80,
   "metadata": {
    "collapsed": false
   },
   "outputs": [],
   "source": [
    "import numpy as np\n",
    "import scipy.io.wavfile\n",
    "import scipy.signal\n",
    "\n",
    "def wczytywanie_piosenki(nazwa_piosenki = \"song.txt\"):\n",
    "\n",
    "    \"\"\"\n",
    "    wczytuje zawartosc pliku song.txt do macierzy numpy-owej\n",
    "    \n",
    "    arg:\n",
    "        str: nazwa_piosenki - nazwa pliku tekstowego wraz z rozszerzeniem (zakladam, tak jak w opisie \n",
    "                              projektu, ze bedziemy korzystac z domyslnej wartosci, tj. \"song.txt\", wiec\n",
    "                              nie sprawdzam poprawnosci typu tego argumentu; problemem z brakiem tego pliku\n",
    "                              etc. zajmie sie juz python, wyrzucajac komunikat, wiec tez pomijam)\n",
    "    \n",
    "    wyjscie:\n",
    "        numpy.ndarray (str: U2): song - macierz wymiaru 1 na k (ilosc wierszy w pliku song.txt), zawierajaca\n",
    "                                        kolejne wiersze z wejsciowego pliku zapisane jako stringi\n",
    "                                    \n",
    "        \n",
    "    \"\"\"\n",
    "    \n",
    "    import numpy as np\n",
    "\n",
    "    song = np.genfromtxt(nazwa_piosenki,dtype='str')\n",
    "    \n",
    "    return song\n",
    "\n",
    "a = wczytywanie_piosenki()"
   ]
  },
  {
   "cell_type": "code",
   "execution_count": 146,
   "metadata": {
    "collapsed": false
   },
   "outputs": [],
   "source": [
    "def wczytywanie_sciezek(lista_trackow):\n",
    "    \"\"\"\n",
    "    \n",
    "    wczytuje na podstawie pliku \"song.txt\" (lub innego, ktory definiował lista_tackow) zawartosc plikow \n",
    "    \"trackXY.txt\" do jednej macierzy numpy-owej \n",
    "    \n",
    "    arg:\n",
    "        numpy.ndarray (str: U2): lista_trackow - macierz wymiaru 1 na k, zawierajaca zapisane jako napisy,\n",
    "                                                 numery kolejnych sciezek do odtworzenia\n",
    "    \n",
    "    wyjscie:\n",
    "        tuple: numpy.ndarray (str: U2): piosenka - macierz, zawierajaca jako wiersze kolejne cwiercnuty utworu,\n",
    "                                            w kazdym wierszu informacja czy dany sample ma zagrac czy nie,\n",
    "                                            zapisana jako napis (albo numer sampla albo --)\n",
    "               bool: dobre_trackusie - zmienna kontrolujaca poprawnosc wczytywanych trackow (metrum i ilosc\n",
    "                                       sampli)\n",
    "                                            \n",
    "    \"\"\"\n",
    "    \n",
    "    import numpy as np\n",
    "    \n",
    "    # zapisujemy unikalne numery trackow, ktore maja byc wczytane\n",
    "    jakie_sciezki = np.unique(lista_trackow)\n",
    "\n",
    "    # slownik, ktorego kolejne elementy to unikalne sciezki (key) wraz z ich zawartoscia (value)\n",
    "    sciezki = {}\n",
    "    \n",
    "    # zmienna do sprawdzenia czy zachowane jest odpowiednie metrum (liczba wierszy podzielna przez 4) w kazdej\n",
    "    # ze sciezek, jesli nie, to zwracana macierz bedzie zerowa\n",
    "    czy_4_na_4 = True\n",
    "    \n",
    "    # zmienna do sprawdzenia czy w kazdym tracku uzyto tyle samo sampli, jesli nie, zwracana macierz bedzie\n",
    "    # zerowa\n",
    "    czy_tyle_samo_sampli = True\n",
    "    \n",
    "    # lista zawierajaca ilosc uzytych sampli w kolejnych trackach\n",
    "    ile_sampli = []\n",
    "    \n",
    "    # cale to definiowanie slownika i szukanie unikalnych trackow po to by raz wczytac zawartosc uzywanych\n",
    "    # trackow a potem sie do niej odwolywac, a nie wczytywac za kazdym razem od nowa zawartosc trackow\n",
    "    \n",
    "    for ktora_sciezka in jakie_sciezki: # w iteratorze bierzemy napisy \"01\" \"02\" itd. stringi!!!\n",
    "        \n",
    "        # tworzymy napis z nazwa pliku tracka, np. \"track01.txt\"\n",
    "        plik = ''.join(['track',ktora_sciezka,'.txt'])\n",
    "        # wczytujemy zawartosc danego tracka do odpowiednio nazwanego elementu w slowniku sciezki\n",
    "        sciezki[ktora_sciezka] = np.genfromtxt(plik, dtype='str')\n",
    "        # dodajemy ilosc kanalow danego tracka do listy\n",
    "        ile_sampli.append(sciezki[ktora_sciezka].shape[1])\n",
    "        # sprawdzamy podzielnosc wierdzy danego tracka przez 4, jesli nie zachodzi, drukujemy odpowiedni\n",
    "        # komunikat i zmieniamy wartosc zmiennej logicznej czy_4_na_4 na False\n",
    "        if(sciezki[ktora_sciezka].shape[0] % 4 != 0):\n",
    "            print(\"Plik: \", plik, \" nie ma podzielnej przez 4 liczby wierszy\")\n",
    "            czy_4_na_4 = False\n",
    "\n",
    "    \n",
    "    # sprawdzamy czy ilosc uzytych sampli jest taka sama w kazdym tracku\n",
    "    if(len(set(ile_sampli))!=1): # set-em wyciagamy unikalne wartosci i sprawdzamy czy jest tylko jedna taka\n",
    "        print(\"Rozna liczba uzytych sampli w trackach\")\n",
    "        czy_tyle_samo_sampli = False\n",
    "    \n",
    "    # jedna zmienna odpowiadajaca za poprawnosc trackow\n",
    "    dobre_trackusie = czy_4_na_4 and czy_tyle_samo_sampli\n",
    "    \n",
    "    # jesli metrum i ilosc sampli sie zgadza zapisujemy zawartosc sciezek w piosence do numpy.ndarraya\n",
    "    if(dobre_trackusie):\n",
    " \n",
    "            # do zapisu poslugujemy sie lista i funkcja append na liscie, gdyz jest to bardziej efektywne\n",
    "            # niz append dla numpy.ndarraya, gdy nie znamy jego ostatecznych rozmiarow\n",
    "            piosenka = []\n",
    "            \n",
    "             # tym razem iterujemy po kolejnych trackach z lista_trackow, nie po unikalnnych nazwach trackow\n",
    "            for ktora_sciezka in lista_trackow:\n",
    "                piosenka.append(sciezki[ktora_sciezka]) #dodajemy odpowiednia wartosc ze slownika sciezki\n",
    "\n",
    "            #tworzymy z listy obiekt typu numpy.ndarray\n",
    "            piosenka = np.array(piosenka)\n",
    "            # obiekt ten zawiera kilka podmacierzy, wiec tworzymy z niego 1 macierz\n",
    "            piosenka = np.vstack(piosenka)\n",
    "    # gdy nie ma odpowiedniego metrum lub ilosci sampli zwracamy zerowa macierz      \n",
    "    else: \n",
    "        piosenka = np.array([0])\n",
    "\n",
    "    return piosenka, dobre_trackusie \n",
    "\n",
    "pios, k = wczytywanie_sciezek(a)"
   ]
  },
  {
   "cell_type": "code",
   "execution_count": null,
   "metadata": {
    "collapsed": true
   },
   "outputs": [],
   "source": [
    "def wczytywanie_ustawien(plik_konfiguracyjny = \"defs.txt\"):\n",
    "    \"\"\"\n",
    "    asserty \n",
    "    na razie zakladam, ze wszystkie parametry beda liczbami\n",
    "    \n",
    "    wczytywanie pliku z ustawieniami (pliku defs.txt)\n",
    "    \n",
    "    arg:\n",
    "        nazwa pliku konfiguracyjnego, typ: string\n",
    "        \n",
    "    wyjscie:\n",
    "        wartosci parametrow zapisane w slowniku, typ: dict\n",
    "    \n",
    "    \"\"\"\n",
    "    import re\n",
    "    # wczytuje zawartowsc pliku (bez pierwszej i ostatniej linijki, jeden wiersz wyjsciowej macierzy, zawiera\n",
    "    # nazwe parametru i jego wartosc, jako oddzielne elementy, zapisane jako stringi)\n",
    "    ustawienia = np.genfromtxt(plik_konfiguracyjny, dtype = str,skip_header=1,skip_footer=1, delimiter=\":\")\n",
    "    # tworze slownik, ktory bedzie przechowywal wartosci\n",
    "    parametry = {}\n",
    "    # tworze slownik\n",
    "    # pozbywam się \"\" z key i przerabiam value na inty\n",
    "    if len(ustawienia) == 2:\n",
    "        parametry[re.sub('\"','',ustawienia[0])] = int(ustawienia[1])\n",
    "    else:\n",
    "        for l in ustawienia:\n",
    "        \n",
    "            parametry[re.sub('\"','',l[0])] = int(l[1])\n",
    "    \n",
    "    # zwracam gotowy slownik\n",
    "    return parametry\n",
    "b=wczytywanie_ustawien()"
   ]
  },
  {
   "cell_type": "code",
   "execution_count": 116,
   "metadata": {
    "collapsed": false
   },
   "outputs": [
    {
     "name": "stderr",
     "output_type": "stream",
     "text": [
      "/home/rexamine/anaconda/lib/python3.4/site-packages/scipy/io/wavfile.py:172: WavFileWarning: Chunk (non-data) not understood, skipping it.\n",
      "  WavFileWarning)\n"
     ]
    },
    {
     "data": {
      "text/plain": [
       "array([  54, -124,  203, ...,   45,   45,   46], dtype=int16)"
      ]
     },
     "execution_count": 116,
     "metadata": {},
     "output_type": "execute_result"
    }
   ],
   "source": [
    "\n",
    "\n",
    "# NOWE PRZERÓBKA\n",
    "def tworzenie_piosenki(macierz_piosenki, czy_pelna = True, bpmy = 120):\n",
    "    \"\"\"\n",
    "    asserty \n",
    "    glowna funkcja\n",
    "    \"\"\"\n",
    "    \n",
    "    if(czy_pelna == False):\n",
    "        print(\"Nie utworzono piosenki\")\n",
    "        return None\n",
    "    else:\n",
    "    \n",
    "    \n",
    "        t_cwiercnuty = 60 / bpmy\n",
    "        n = macierz_piosenki.shape[0]\n",
    "        kanaly = macierz_piosenki.shape[1]\n",
    "\n",
    "        import numpy as np\n",
    "        import scipy.io.wavfile\n",
    "        import scipy.signal\n",
    "\n",
    "        # utwor\n",
    "        T = np.linspace(0, n*t_cwiercnuty, 44100*n*t_cwiercnuty)\n",
    "\n",
    "        calosc = np.zeros((1,))\n",
    "        for wiersz in range(0, 10): # ZMIEN TU NA N ZAMIAST 10\n",
    "\n",
    "            sample = []\n",
    "            dlugosci = []\n",
    "\n",
    "            for i in range(0, kanaly):\n",
    "\n",
    "                if macierz_piosenki[wiersz,i] == '--':\n",
    "                    sample.append(np.zeros((1,1)))    \n",
    "                else:\n",
    "                    plik = ''.join(['sample', macierz_piosenki[wiersz,i],'.wav']) \n",
    "                    frekw, t = scipy.io.wavfile.read(plik)\n",
    "                    sample.append(t)\n",
    "                    sample[i] = np.mean(sample[i], axis=1)/32767 # robi mono\n",
    "                    sample[i] = np.int16(sample[i]/max(np.abs(sample[i]))*32767)\n",
    "                    dlugosci.append(sample[i].shape[0])\n",
    "\n",
    "            maksik = max(dlugosci)\n",
    "            pusty = np.int16(np.zeros((len(sample), maksik)))\n",
    "            for k in range(0, len(sample)):\n",
    "                pusty[k][0:sample[k].shape[0]] = sample[k]\n",
    "\n",
    "            cwiercnuta = sum(pusty)\n",
    "            if (wiersz*t_cwiercnuty*44100 + maksik) > len(T):\n",
    "                T[wiersz*t_cwiercnuty*44100:(wiersz*t_cwiercnuty*44100 + maksik)]= cwiercnuta[0:len(T[wiersz*t_cwiercnuty*44100:(wiersz*t_cwiercnuty*44100 + maksik)])]\n",
    "            else:\n",
    "                T[wiersz*t_cwiercnuty*44100:(wiersz*t_cwiercnuty*44100 + maksik)]= cwiercnuta\n",
    "\n",
    "\n",
    "\n",
    "\n",
    "\n",
    "            #print(len(T[wiersz*t_cwiercnuty*44100:(wiersz*t_cwiercnuty*44100 + maksik)]))\n",
    "            #print(len(cwiercnuta))\n",
    "            #print(type(T[wiersz*t_cwiercnuty*44100:(wiersz*t_cwiercnuty*44100 + maksik)]))\n",
    "\n",
    "        T= np.array(T, dtype=np.int16)\n",
    "        return T\n",
    "\n",
    "pios, k = wczytywanie_sciezek(a)\n",
    "wierszyk = tworzenie_piosenki(pios, k, b['bpm'])\n",
    "\n",
    "# jak w to wcisnac bmpki?\n",
    "wierszyk"
   ]
  },
  {
   "cell_type": "code",
   "execution_count": 27,
   "metadata": {
    "collapsed": true
   },
   "outputs": [],
   "source": [
    "wierszyk = np.array(wierszyk/2,dtype=np.int16)"
   ]
  },
  {
   "cell_type": "code",
   "execution_count": 2,
   "metadata": {
    "collapsed": false
   },
   "outputs": [],
   "source": [
    "import numpy as np\n",
    "import scipy.io.wavfile\n",
    "import scipy.signal\n",
    "\n",
    "# dac ifa ze jak wierszyk = none to nic nie robić\n",
    "\n",
    "scipy.io.wavfile.write('test1.wav', \n",
    "                           44100,\n",
    "                       wierszyk\n",
    "                        )\n"
   ]
  },
  {
   "cell_type": "code",
   "execution_count": 3,
   "metadata": {
    "collapsed": false
   },
   "outputs": [
    {
     "data": {
      "text/plain": [
       "[\"Playing WAVE '/home/rexamine/Desktop/test1.wav' : Signed 16 bit Little Endian, Rate 44100 Hz, Mono\"]"
      ]
     },
     "execution_count": 3,
     "metadata": {},
     "output_type": "execute_result"
    }
   ],
   "source": [
    "!!aplay /home/rexamine/Desktop/test1.wav"
   ]
  },
  {
   "cell_type": "code",
   "execution_count": 4,
   "metadata": {
    "collapsed": false
   },
   "outputs": [
    {
     "name": "stderr",
     "output_type": "stream",
     "text": [
      "/home/rexamine/anaconda/lib/python3.4/site-packages/scipy/io/wavfile.py:172: WavFileWarning: Chunk (non-data) not understood, skipping it.\n",
      "  WavFileWarning)\n"
     ]
    }
   ],
   "source": [
    "frekw, t = scipy.io.wavfile.read(\"sample01.wav\")"
   ]
  },
  {
   "cell_type": "code",
   "execution_count": null,
   "metadata": {
    "collapsed": true
   },
   "outputs": [],
   "source": []
  },
  {
   "cell_type": "code",
   "execution_count": null,
   "metadata": {
    "collapsed": true
   },
   "outputs": [],
   "source": []
  }
 ],
 "metadata": {
  "kernelspec": {
   "display_name": "Python 3",
   "language": "python",
   "name": "python3"
  },
  "language_info": {
   "codemirror_mode": {
    "name": "ipython",
    "version": 3
   },
   "file_extension": ".py",
   "mimetype": "text/x-python",
   "name": "python",
   "nbconvert_exporter": "python",
   "pygments_lexer": "ipython3",
   "version": "3.4.3"
  }
 },
 "nbformat": 4,
 "nbformat_minor": 0
}
