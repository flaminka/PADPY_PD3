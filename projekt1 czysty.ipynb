{
 "cells": [
  {
   "cell_type": "markdown",
   "metadata": {
    "collapsed": true
   },
   "source": [
    "Importujemy najpierw potrzebne pakiety"
   ]
  },
  {
   "cell_type": "code",
   "execution_count": 2,
   "metadata": {
    "collapsed": false
   },
   "outputs": [],
   "source": [
    "#http://www.cs.uregina.ca/Links/class-info/325/PythonSound/\n",
    "#http://www.cs.usfca.edu/~brooks/S08classes/cs107/sound.html\n",
    "#http://www.openbookproject.net/py4fun/wave/wave.html\n",
    "#http://www.informit.com/articles/article.aspx?p=2355856&seqNum=5\n",
    "\n",
    "import numpy as np\n",
    "import scipy.io.wavfile\n",
    "import scipy.signal\n",
    "\n",
    "def wczytywanie_piosenki(nazwa_piosenki = \"song.txt\"):\n",
    "\n",
    "    \"\"\"\n",
    "    wczytuje zawartosc pliku song.txt do macierzy numpy-owej\n",
    "    \n",
    "    arg:\n",
    "        str: nazwa_piosenki - nazwa pliku tekstowego wraz z rozszerzeniem (zakladam, tak jak w opisie \n",
    "                              projektu, ze bedziemy korzystac z domyslnej wartosci, tj. \"song.txt\", wiec\n",
    "                              nie sprawdzam poprawnosci typu tego argumentu; problemem z brakiem tego pliku\n",
    "                              etc. zajmie sie juz python, wyrzucajac komunikat, wiec tez pomijam)\n",
    "    \n",
    "    wyjscie:\n",
    "        numpy.ndarray (str: U2): song - macierz wymiaru 1 na k (ilosc wierszy w pliku song.txt), zawierajaca\n",
    "                                        kolejne wiersze z wejsciowego pliku zapisane jako stringi\n",
    "                                    \n",
    "        \n",
    "    \"\"\"\n",
    "    \n",
    "    import numpy as np\n",
    "\n",
    "    song = np.genfromtxt(nazwa_piosenki,dtype='str')\n",
    "    \n",
    "    return song\n",
    "\n",
    "a = wczytywanie_piosenki()"
   ]
  },
  {
   "cell_type": "code",
   "execution_count": 3,
   "metadata": {
    "collapsed": false
   },
   "outputs": [],
   "source": [
    "def wczytywanie_sciezek(lista_trackow):\n",
    "    \"\"\"\n",
    "    \n",
    "    wczytuje na podstawie pliku \"song.txt\" (lub innego, ktory definiował liste trackow) zawartosc plikow \n",
    "    \"trackXY.txt\" do jednej macierzy numpy-owej \n",
    "    \n",
    "    arg:\n",
    "        numpy.ndarray (str: U2): lista_trackow - macierz wymiaru 1 na k, zawierajaca zapisane jako napisy,\n",
    "                                                 numery kolejnych sciezek do odtworzenia\n",
    "    \n",
    "    wyjscie:\n",
    "        tuple: numpy.ndarray (str: U2): piosenka - macierz, zawierajaca jako wiersze kolejne cwiercnuty utworu,\n",
    "                                            w kazdym wierszu informacja czy dany sample ma zagrac czy nie,\n",
    "                                            zapisana jako napis (albo numer sampla albo --)\n",
    "               bool: dobre_trackusie - zmienna kontrolujaca poprawnosc wczytywanych trackow (metrum i ilosc\n",
    "                                       sampli)\n",
    "                                            \n",
    "    \"\"\"\n",
    "    \n",
    "    import numpy as np\n",
    "    \n",
    "    # zapisujemy unikalne numery trackow, ktore maja byc wczytane\n",
    "    jakie_sciezki = np.unique(lista_trackow)\n",
    "\n",
    "    # slownik, ktorego kolejne elementy to unikalne sciezki (key) wraz z ich zawartoscia (value)\n",
    "    sciezki = {}\n",
    "    \n",
    "    # zmienna do sprawdzenia czy zachowane jest odpowiednie metrum (liczba wierszy podzielna przez 4) w kazdej\n",
    "    # ze sciezek, jesli nie, to zwracana macierz bedzie zerowa\n",
    "    czy_4_na_4 = True\n",
    "    \n",
    "    # zmienna do sprawdzenia czy w kazdym tracku uzyto tyle samo sampli, jesli nie, zwracana macierz bedzie\n",
    "    # zerowa\n",
    "    czy_tyle_samo_sampli = True\n",
    "    \n",
    "    # lista zawierajaca ilosc uzytych sampli w kolejnych trackach\n",
    "    ile_sampli = []\n",
    "    \n",
    "    # cale to definiowanie slownika i szukanie unikalnych trackow po to by raz wczytac zawartosc uzywanych\n",
    "    # trackow a potem sie do niej odwolywac, a nie wczytywac za kazdym razem od nowa zawartosc trackow\n",
    "    \n",
    "    for ktora_sciezka in jakie_sciezki: # w iteratorze bierzemy napisy \"01\" \"02\" itd. stringi!!!\n",
    "        \n",
    "        # tworzymy napis z nazwa pliku tracka, np. \"track01.txt\"\n",
    "        plik = ''.join(['track',ktora_sciezka,'.txt'])\n",
    "        # wczytujemy zawartosc danego tracka do odpowiednio nazwanego elementu w slowniku sciezki\n",
    "        sciezki[ktora_sciezka] = np.genfromtxt(plik, dtype='str')\n",
    "        # dodajemy ilosc kanalow danego tracka do listy\n",
    "        ile_sampli.append(sciezki[ktora_sciezka].shape[1])\n",
    "        # sprawdzamy podzielnosc wierdzy danego tracka przez 4, jesli nie zachodzi, drukujemy odpowiedni\n",
    "        # komunikat i zmieniamy wartosc zmiennej logicznej czy_4_na_4 na False\n",
    "        if(sciezki[ktora_sciezka].shape[0] % 4 != 0):\n",
    "            print(\"Plik: \", plik, \" nie ma podzielnej przez 4 liczby wierszy\")\n",
    "            czy_4_na_4 = False\n",
    "\n",
    "    \n",
    "    # sprawdzamy czy ilosc uzytych sampli jest taka sama w kazdym tracku\n",
    "    if(len(set(ile_sampli))!=1): # set-em wyciagamy unikalne wartosci i sprawdzamy czy jest tylko jedna taka\n",
    "        print(\"Rozna liczba uzytych sampli w trackach\")\n",
    "        czy_tyle_samo_sampli = False\n",
    "    \n",
    "    # jedna zmienna odpowiadajaca za poprawnosc trackow\n",
    "    dobre_trackusie = czy_4_na_4 and czy_tyle_samo_sampli\n",
    "    \n",
    "    # jesli metrum i ilosc sampli sie zgadza zapisujemy zawartosc sciezek w piosence do numpy.ndarraya\n",
    "    if(dobre_trackusie):\n",
    " \n",
    "            # do zapisu poslugujemy sie lista i funkcja append na liscie, gdyz jest to bardziej efektywne\n",
    "            # niz append dla numpy.ndarraya, gdy nie znamy jego ostatecznych rozmiarow\n",
    "            piosenka = []\n",
    "            \n",
    "            # \n",
    "            if(lista_trackow.size ==1):\n",
    "                piosenka.append(sciezki[str(lista_trackow)]) #dodajemy odpowiednia wartosc ze slownika sciezki\n",
    "\n",
    "                #tworzymy z listy obiekt typu numpy.ndarray\n",
    "                piosenka = np.array(piosenka)\n",
    "                # obiekt ten zawiera kilka podmacierzy, wiec tworzymy z niego 1 macierz\n",
    "                piosenka = np.vstack(piosenka)\n",
    "            else:\n",
    "                # tym razem iterujemy po kolejnych trackach z lista_trackow, nie po unikalnnych \n",
    "                # nazwach trackow\n",
    "                for ktora_sciezka in lista_trackow:\n",
    "                    piosenka.append(sciezki[ktora_sciezka]) #dodajemy odpowiednia wartosc ze slownika sciezki\n",
    "\n",
    "                #tworzymy z listy obiekt typu numpy.ndarray\n",
    "                piosenka = np.array(piosenka)\n",
    "                # obiekt ten zawiera kilka podmacierzy, wiec tworzymy z niego 1 macierz\n",
    "                piosenka = np.vstack(piosenka)\n",
    "    # gdy nie ma odpowiedniego metrum lub ilosci sampli zwracamy zerowa macierz      \n",
    "    else: \n",
    "        piosenka = np.array([0])\n",
    "\n",
    "    return piosenka, dobre_trackusie \n",
    "\n",
    "pios, k = wczytywanie_sciezek(a)"
   ]
  },
  {
   "cell_type": "code",
   "execution_count": 4,
   "metadata": {
    "collapsed": false
   },
   "outputs": [
    {
     "data": {
      "text/plain": [
       "{'bpm': 120, 'freq': 44100, 'loud': -0.2, 'wages': [0.2, 0.4, 0.3, 0.1]}"
      ]
     },
     "execution_count": 4,
     "metadata": {},
     "output_type": "execute_result"
    }
   ],
   "source": [
    "def wczytywanie_ustawien(plik_konfiguracyjny = \"defs.txt\"):\n",
    "    \"\"\" \n",
    "    wczytywanie pliku z ustawieniami (pliku defs.txt) do slownika\n",
    "    \n",
    "    arg:\n",
    "        str: plik_konfiguracyjny - nazwa pliku konfiguracyjnego z podanymi wartosciami parametrow (tempo itd.)\n",
    "        \n",
    "    wyjscie:\n",
    "        dict: parametry - zapisane nazwy i wartosci uzywanych parametrow\n",
    "    \n",
    "    \"\"\"\n",
    "    import re\n",
    "    \n",
    "    # wczytuje zawartosc pliku (bez pierwszej i ostatniej linijki, jeden wiersz wyjsciowej macierzy, zawiera\n",
    "    # nazwe parametru i jego wartosc, jako oddzielne elementy, zapisane jako stringi)\n",
    "    ustawienia = np.genfromtxt(plik_konfiguracyjny, dtype = str, \\\n",
    "                               skip_header=1, skip_footer=1, delimiter=\":\")\n",
    "    \n",
    "    # tworze slownik, ktory bedzie przechowywal wartosci\n",
    "    parametry = {}\n",
    "    \n",
    "    # pozbywam się \"\" z key i przerabiam value na inty\n",
    "    \n",
    "    # jesli mamy 1 parametr (1 linijka w pliku, to ustawienia to zmienna o shape = (2,), \n",
    "    # wiec odwoluje sie bezposrednio do zmiennej ustawienia\n",
    "    if ustawienia.shape == (2,): \n",
    "        parametry[re.sub('\"','',ustawienia[0])] = ustawienia[1]\n",
    "    else: # jak mamy wiecej parametrow odwoluje sie do kolejnych linijek macierzy ustawienia\n",
    "        for l in ustawienia:  \n",
    "            parametry[re.sub('\"','',l[0])] = l[1]\n",
    "    \n",
    "    # zamieniamy napisy na odpowiednie wartosci - kontroluje jakie sa parametry, wiec robie to recznie\n",
    "    try:\n",
    "        parametry['bpm'] = int(parametry['bpm']) # tempo\n",
    "        parametry['freq'] = int(parametry['freq']) # frekwencja wyjsciowego utworu\n",
    "        parametry['loud'] = float(parametry['loud'] ) # glosnosc\n",
    "        parametry['wages'] = [float(s) for s in parametry['wages'].split(\",\")] # lista wag dla sampli\n",
    "    \n",
    "    # jak nie podano danego parametru to olej\n",
    "    except KeyError:\n",
    "        pass\n",
    "    \n",
    "    return parametry\n",
    "b = wczytywanie_ustawien(\"defs.txt\")\n",
    "b"
   ]
  },
  {
   "cell_type": "code",
   "execution_count": 96,
   "metadata": {
    "collapsed": false
   },
   "outputs": [
    {
     "name": "stdout",
     "output_type": "stream",
     "text": [
      "120\n"
     ]
    }
   ],
   "source": [
    "if \"bpm\" in b:\n",
    "    print(b['bpm'])\n",
    "else:\n",
    "    print(\"bu\")"
   ]
  },
  {
   "cell_type": "code",
   "execution_count": 10,
   "metadata": {
    "collapsed": false,
    "scrolled": true
   },
   "outputs": [
    {
     "name": "stderr",
     "output_type": "stream",
     "text": [
      "/home/rexamine/anaconda/lib/python3.4/site-packages/scipy/io/wavfile.py:172: WavFileWarning: Chunk (non-data) not understood, skipping it.\n",
      "  WavFileWarning)\n"
     ]
    },
    {
     "data": {
      "text/plain": [
       "array([   12,   -32,    25, ..., -3404, -3481, -3498], dtype=int16)"
      ]
     },
     "execution_count": 10,
     "metadata": {},
     "output_type": "execute_result"
    }
   ],
   "source": [
    "def tworzenie_piosenki(macierz_piosenki, czy_pelna = True, bpm = 120, \\\n",
    "                       freq = 44100, wages = None, loud = 0):\n",
    "    \"\"\"\n",
    "    glowna funkcja generujaca cala piosenke\n",
    "    \n",
    "    arg:\n",
    "        numpy.ndarray (str: U2): macierz_piosenki - macierz zawierajaca definicje kolejnych cwiercnut \n",
    "                                (co ma byc grane w danej cwiercnucie)\n",
    "        bool: czy_pelna - zmienna sprawdzajaca czy macierz_piosenki jest zapisana (nie jest, gdy tracki mialy\n",
    "                          nieodpowiednia liczbe wierszy lub kolumn)\n",
    "        int: bpm - tempo piosenki w jednostce bpm\n",
    "        int: freq - ilosc probek w jednej sekundzie\n",
    "        list (float): wages - wagi kolejnych sampli (jakie znaczenie ma miec 1 probka, 2 etc.)\n",
    "        float: loud - procent glosnosci, 0 - tak jak oryginalne probki, 1 - na maxa, -1 - sciszamy na maxa\n",
    "    \n",
    "    wyjscie:\n",
    "        numpy.ndarray (numpy.int16): gotowy utwór\n",
    "    \"\"\"\n",
    "    \n",
    "    \n",
    "    # macierz piosenki byla pusta, piosenka nie zostala utworzona\n",
    "    if(czy_pelna == False):\n",
    "        print(\"Nie utworzono piosenki\")\n",
    "        return None \n",
    "    \n",
    "    else:\n",
    "    \n",
    "        import numpy as np\n",
    "        import scipy.io.wavfile\n",
    "        \n",
    "        t_cwiercnuty = 60 / bpm # czas trwania jednej cwiercnuty (zalezy od tempa)\n",
    "        ile_cwiercnut = macierz_piosenki.shape[0] # ilosc cwiercnut\n",
    "        kanaly = macierz_piosenki.shape[1] # ilosc uzywanych sampli\n",
    "        frekw = freq\n",
    "        czas_utworu = ile_cwiercnut*t_cwiercnuty\n",
    "        ilosc_probek = int(frekw*czas_utworu) # ile elementow bedzie w nowym utworze\n",
    "        \n",
    "        # bedziemy tylko raz wczytywac zawartosc sampleXY.wav, wiec potrzebuje unikalne numery sampli\n",
    "        rozne_sample = np.unique(macierz_piosenki) # bierze lacznie z \"--\"\n",
    "        \n",
    "        # w slownikach zapiszemy parametry tych sampli\n",
    "        sample_co = {} # slownik z wartosciami danego sampla (tj. macierze numpy-owe z amplitudami)\n",
    "        sample_frekw = {} # slownik z ich frekwencjami\n",
    "        sample_dl = {} # slownik z ich dlugosciami\n",
    "        \n",
    "        #wczytujemy te sample\n",
    "        for ktory_sampel in rozne_sample: # w iteratorze bierzemy napisy \"01\" \"02\"  \"--\" itd. stringi!!!\n",
    "        \n",
    "            if(ktory_sampel != '--'):\n",
    "                # tworzymy napis z nazwa pliku sampla, np. \"sample01.wav\"\n",
    "                plik = ''.join(['sample',ktory_sampel,'.wav'])\n",
    "                # wczytujemy zawartosc i frekwencje danego sampla do odpowiednio nazwanego elementu \n",
    "                # w slowniku sample_co i sample_frekw\n",
    "                sample_frekw[ktory_sampel], sample_co[ktory_sampel] = scipy.io.wavfile.read(plik)\n",
    "                # tworzymy mono z naszego sampla\n",
    "                sample_co[ktory_sampel] = np.mean(sample_co[ktory_sampel], axis=1)/32767\n",
    "                # normalizujemy te wartosci\n",
    "                sample_co[ktory_sampel] = np.int16(sample_co[ktory_sampel]/max(np.abs(sample_co[ktory_sampel]))\\\n",
    "                                                   *32767)\n",
    "                # zapisujemy dlugosc sampli, czyli ilosc probek ( = czas_trwania*frekwencja)\n",
    "                sample_dl[ktory_sampel] = sample_co[ktory_sampel].shape[0]\n",
    "                \n",
    "            else: # to samo robimy dla \"--\" recznie ustawiamy\n",
    "                sample_co[ktory_sampel] = np.zeros((1,), dtype=np.int16) # robimy cisze, gdy --\n",
    "                sample_frekw[ktory_sampel] = frekw # taka sama jak domyslna\n",
    "                sample_dl[ktory_sampel] = 0 # zakladamy czas 0 sekund\n",
    "         \n",
    "\n",
    "        \n",
    "        \n",
    " \n",
    "        if wages is None:\n",
    "            wages = np.ones((1,kanaly))  \n",
    "        else:\n",
    "            wages = np.array(wages).reshape(1,kanaly) # zeby mialo wymiar (1,kanaly), a nie (kanaly,)      \n",
    "        \n",
    "        # definicja nowego utworu\n",
    "        T = np.linspace(0, czas_utworu, ilosc_probek)\n",
    "        \n",
    "        for wiersz in range(0, ile_cwiercnut): # ZMIEN TU NA ile_cwiercnut ZAMIAST 10!!!!!!!!!!!!!!!!!!!!!!!!!!!!!\n",
    "\n",
    "            sample = [] # wczytamy sample z danej cwiecnuty\n",
    "            dlugosci = [] # tu zapiszemy ich dlugosci w tej cwiercnucie\n",
    "\n",
    "            for i in range(0, kanaly):\n",
    "                \n",
    "                sampus = macierz_piosenki[wiersz,i]\n",
    "                sample.append(sample_co[sampus])   \n",
    "                dlugosci.append(sample_dl[sampus])\n",
    "\n",
    "                    \n",
    "            # bierzemy najdluzszy sample i w calosci bedziemy go odtwarzac; reszte zatem tez w calosci\n",
    "            # odtworzymy, a gdy sie skoncza damy cisze (zera)\n",
    "            maksik = max(dlugosci)\n",
    "            # mamy tutaj macierz 4 na max dlugosc, przygotowana do zlaczenia potem tych dzwiekow w jeden \n",
    "            pusty = np.int16(np.zeros((len(sample), maksik)))\n",
    "\n",
    "            # dodajemy nasze dzwieki do tej pustej\n",
    "            for k in range(0, kanaly):\n",
    "                pusty[k][0:dlugosci[k]] = sample[k]\n",
    "\n",
    "           \n",
    "            # mnozymy kolejne elementy wektora pusty (czyli sample) przez wagi i sumujemy\n",
    "            cwiercnuta = np.dot(wages, pusty) \n",
    "            #otrzymamy wymiar (1, x), a chcemy (x,), wiec bierzemy pierwszy element\n",
    "            cwiercnuta = cwiercnuta[0]\n",
    "                        \n",
    "            # jesli dodanie ostatnich cwiercnut bedzie wiazalo sie z przekroczeniem dlugosci tworzonego\n",
    "            # utworu, obcinamy ostatnie dzwieki, tak by zmiescic sie w tej dlugosci\n",
    "            \n",
    "            # poczatek biezacej cwiercnuty \n",
    "            poczatek_cwiercnuty = int(wiersz*t_cwiercnuty*frekw)\n",
    "            \n",
    "            # jesli dodanie ostatnich cwiercnut bedzie wiazalo sie z przekroczeniem dlugosci tworzonego\n",
    "            # utworu, obcinamy ostatnie dzwieki, tak by zmiescic sie w tej dlugosci\n",
    "            if (poczatek_cwiercnuty + maksik) > ilosc_probek:\n",
    "                \n",
    "                T[poczatek_cwiercnuty:(poczatek_cwiercnuty + maksik)]=\\\n",
    "                cwiercnuta[0:len(T[poczatek_cwiercnuty:(poczatek_cwiercnuty + maksik)])]\n",
    "                \n",
    "            else:\n",
    "                T[poczatek_cwiercnuty:(poczatek_cwiercnuty + maksik)] += cwiercnuta\n",
    "        \n",
    "        T= np.array(T, dtype=np.int16)\n",
    "        \n",
    "        #ustalamy glosnosc utworu\n",
    "        T = zmiana_glosnosci(T, loud)\n",
    "\n",
    "        return T\n",
    "\n",
    "pios, k = wczytywanie_sciezek(a)\n",
    "#wierszyk = tworzenie_piosenki(pios, k, bpm = b['bpm'], freq = b['freq'], wages = b['wages'])\n",
    "wierszyk = tworzenie_piosenki(pios, k, **b)\n",
    "wierszyk "
   ]
  },
  {
   "cell_type": "code",
   "execution_count": 11,
   "metadata": {
    "collapsed": false
   },
   "outputs": [
    {
     "data": {
      "text/plain": [
       "array([    9,   -25,    20, ..., -2723, -2784, -2798], dtype=int16)"
      ]
     },
     "execution_count": 11,
     "metadata": {},
     "output_type": "execute_result"
    }
   ],
   "source": [
    "#zglasnianie utworu\n",
    "\n",
    "def zmiana_glosnosci(utwor, procent = 0):\n",
    "    \"\"\"\n",
    "    zmienia glosnosc utworu (jego amplitudy)\n",
    "    \n",
    "    arg:\n",
    "        numpy.ndarray (numpy.int16): utwor - dzwiek, ktory ma byc zglosniony lub zciszony\n",
    "        \n",
    "        float: procent - liczba obrazujaca zmiane glosnosci utworu, osiaga wartosci od -1 do 1\n",
    "                         dla 0 brak zmian, dla 1 - \"100% glosniej\", dla -1 \"100% ciszej\"\n",
    "    \n",
    "    wyjscie:\n",
    "        numpy.ndarray (numpy.int16): glosniejszy - sciszony lub zglosniony utwor\n",
    "    \"\"\"\n",
    "    if(-1 <= procent <= 1):\n",
    "        #ile razy mamy pomnozyc amplitude naszego dzwieku\n",
    "        mnoznik = 0\n",
    "        if( procent < 0 ):\n",
    "            mnoznik = 1 + procent\n",
    "        else:\n",
    "            # obliczamy najwyzsza amplitude w danym utworze i ona bedzie wyznaczac jak bardzo mozemy podglosnic\n",
    "            maks_ampli = 0\n",
    "            maks_ampli = max(abs(utwor))\n",
    "            mnoznik = 32767/maks_ampli # maksymalny mnoznik\n",
    "            # mnoznik minimalnie moze osiagnac wartosc 1, to co powyzej (mnoznik-1) mnozymy o procent zglosnienia\n",
    "            # i dodajemy do podstawy (czyli 1)\n",
    "            mnoznik = 1 + (mnoznik - 1)*procent\n",
    "        glosniej = mnoznik * utwor\n",
    "        glosniej = glosniej.astype(np.int16) #glosniej = np.array(glosniej, dtype=np.int16)\n",
    "        return glosniej\n",
    "    else:\n",
    "        print(\"Podaj procent z zakresu -1 do 1\")\n",
    "                               \n",
    "\n",
    "wierszyk1 = zmiana_glosnosci(wierszyk, b['loud'])\n",
    "wierszyk1\n"
   ]
  },
  {
   "cell_type": "code",
   "execution_count": 17,
   "metadata": {
    "collapsed": false
   },
   "outputs": [],
   "source": [
    "\n",
    "def zapis_utworu(utwor, nazwa = 'test1.wav', freq = 44100):\n",
    "    import numpy as np\n",
    "    import scipy.io.wavfile\n",
    "    import scipy.signal\n",
    "\n",
    "    scipy.io.wavfile.write(nazwa, \n",
    "                           freq,\n",
    "                       utwor\n",
    "                        )\n",
    "zapis_utworu(wierszyk, freq=b['freq'])"
   ]
  },
  {
   "cell_type": "code",
   "execution_count": 18,
   "metadata": {
    "collapsed": false
   },
   "outputs": [
    {
     "data": {
      "text/plain": [
       "[\"Playing WAVE '/home/rexamine/Desktop/test1.wav' : Signed 16 bit Little Endian, Rate 44100 Hz, Mono\"]"
      ]
     },
     "execution_count": 18,
     "metadata": {},
     "output_type": "execute_result"
    }
   ],
   "source": [
    "!!aplay /home/rexamine/Desktop/test1.wav"
   ]
  },
  {
   "cell_type": "code",
   "execution_count": 264,
   "metadata": {
    "collapsed": false
   },
   "outputs": [],
   "source": [
    "def f(k= True,bpm=0,freq=1,loud=2,wages=None):\n",
    "    print(k,bpm,freq,loud,wages)\n",
    "\n",
    "def sprawdz(f, **kwargs):\n",
    "    try:\n",
    "        f(**kwargs)\n",
    "        print(\"Zaden blad nie wyskoczyl, a wynik to:\")\n",
    "        return f(**kwargs)\n",
    "    # dla ifa z raise ValueError\n",
    "    except ValueError:\n",
    "        return \"Blad wartosci\"\n",
    "    # do assertow\n",
    "    except AssertionError:\n",
    "        return 'Assert wyskoczyl'"
   ]
  },
  {
   "cell_type": "code",
   "execution_count": 251,
   "metadata": {
    "collapsed": false
   },
   "outputs": [
    {
     "data": {
      "text/plain": [
       "{'bpm': 120, 'freq': 44100, 'loud': -0.2, 'wages': [0.2, 0.4, 0.3, 0.1]}"
      ]
     },
     "execution_count": 251,
     "metadata": {},
     "output_type": "execute_result"
    }
   ],
   "source": [
    "b"
   ]
  },
  {
   "cell_type": "code",
   "execution_count": 11,
   "metadata": {
    "collapsed": false
   },
   "outputs": [
    {
     "data": {
      "text/plain": [
       "{'bpm': 111}"
      ]
     },
     "execution_count": 11,
     "metadata": {},
     "output_type": "execute_result"
    }
   ],
   "source": [
    "kg = {'bpm': 111}\n",
    "kg"
   ]
  },
  {
   "cell_type": "code",
   "execution_count": 266,
   "metadata": {
    "collapsed": false
   },
   "outputs": [
    {
     "name": "stdout",
     "output_type": "stream",
     "text": [
      "False 111 1 2 None\n"
     ]
    }
   ],
   "source": [
    "f(False,**kg) # musze miec tak samo nazwane argumenty w funkcji jak te parametry"
   ]
  },
  {
   "cell_type": "code",
   "execution_count": 5,
   "metadata": {
    "collapsed": false
   },
   "outputs": [],
   "source": [
    "import zipfile\n",
    "\n",
    "zip = zipfile.ZipFile('utwor1.zip')\n",
    "zip.extractall()\n",
    "zip.close()"
   ]
  },
  {
   "cell_type": "code",
   "execution_count": 71,
   "metadata": {
    "collapsed": false
   },
   "outputs": [],
   "source": [
    "from encodings.aliases import aliases\n",
    "#aliases.items()"
   ]
  },
  {
   "cell_type": "code",
   "execution_count": null,
   "metadata": {
    "collapsed": true
   },
   "outputs": [],
   "source": []
  },
  {
   "cell_type": "code",
   "execution_count": null,
   "metadata": {
    "collapsed": true
   },
   "outputs": [],
   "source": []
  },
  {
   "cell_type": "code",
   "execution_count": null,
   "metadata": {
    "collapsed": true
   },
   "outputs": [],
   "source": []
  }
 ],
 "metadata": {
  "kernelspec": {
   "display_name": "Python 3",
   "language": "python",
   "name": "python3"
  },
  "language_info": {
   "codemirror_mode": {
    "name": "ipython",
    "version": 3
   },
   "file_extension": ".py",
   "mimetype": "text/x-python",
   "name": "python",
   "nbconvert_exporter": "python",
   "pygments_lexer": "ipython3",
   "version": "3.4.3"
  }
 },
 "nbformat": 4,
 "nbformat_minor": 0
}
