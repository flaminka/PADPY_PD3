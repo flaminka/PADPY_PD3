{
 "cells": [
  {
   "cell_type": "markdown",
   "metadata": {
    "collapsed": true
   },
   "source": [
    "Importujemy najpierw potrzebne pakiety"
   ]
  },
  {
   "cell_type": "code",
   "execution_count": 85,
   "metadata": {
    "collapsed": false
   },
   "outputs": [],
   "source": [
    "# zmiana frekwencji zapisu dzwieku - dodac do defs i funkcji glownej\n",
    "# zmiana glosnosci calego dzwieku -to samo + stworzyc funkcje\n",
    "# zmiana wag dla utworu - to samo\n",
    "\n",
    "#http://www.cs.uregina.ca/Links/class-info/325/PythonSound/\n",
    "#http://www.cs.usfca.edu/~brooks/S08classes/cs107/sound.html\n",
    "#http://www.openbookproject.net/py4fun/wave/wave.html\n",
    "#http://www.informit.com/articles/article.aspx?p=2355856&seqNum=5\n",
    "\n",
    "import numpy as np\n",
    "import scipy.io.wavfile\n",
    "import scipy.signal\n",
    "\n",
    "def wczytywanie_piosenki(nazwa_piosenki = \"song.txt\"):\n",
    "\n",
    "    \"\"\"\n",
    "    wczytuje zawartosc pliku song.txt do macierzy numpy-owej\n",
    "    \n",
    "    arg:\n",
    "        str: nazwa_piosenki - nazwa pliku tekstowego wraz z rozszerzeniem (zakladam, tak jak w opisie \n",
    "                              projektu, ze bedziemy korzystac z domyslnej wartosci, tj. \"song.txt\", wiec\n",
    "                              nie sprawdzam poprawnosci typu tego argumentu; problemem z brakiem tego pliku\n",
    "                              etc. zajmie sie juz python, wyrzucajac komunikat, wiec tez pomijam)\n",
    "    \n",
    "    wyjscie:\n",
    "        numpy.ndarray (str: U2): song - macierz wymiaru 1 na k (ilosc wierszy w pliku song.txt), zawierajaca\n",
    "                                        kolejne wiersze z wejsciowego pliku zapisane jako stringi\n",
    "                                    \n",
    "        \n",
    "    \"\"\"\n",
    "    \n",
    "    import numpy as np\n",
    "\n",
    "    song = np.genfromtxt(nazwa_piosenki,dtype='str')\n",
    "    \n",
    "    return song\n",
    "\n",
    "a = wczytywanie_piosenki()"
   ]
  },
  {
   "cell_type": "code",
   "execution_count": 90,
   "metadata": {
    "collapsed": false
   },
   "outputs": [],
   "source": [
    "def wczytywanie_sciezek(lista_trackow):\n",
    "    \"\"\"\n",
    "    \n",
    "    wczytuje na podstawie pliku \"song.txt\" (lub innego, ktory definiował lista_tackow) zawartosc plikow \n",
    "    \"trackXY.txt\" do jednej macierzy numpy-owej \n",
    "    \n",
    "    arg:\n",
    "        numpy.ndarray (str: U2): lista_trackow - macierz wymiaru 1 na k, zawierajaca zapisane jako napisy,\n",
    "                                                 numery kolejnych sciezek do odtworzenia\n",
    "    \n",
    "    wyjscie:\n",
    "        tuple: numpy.ndarray (str: U2): piosenka - macierz, zawierajaca jako wiersze kolejne cwiercnuty utworu,\n",
    "                                            w kazdym wierszu informacja czy dany sample ma zagrac czy nie,\n",
    "                                            zapisana jako napis (albo numer sampla albo --)\n",
    "               bool: dobre_trackusie - zmienna kontrolujaca poprawnosc wczytywanych trackow (metrum i ilosc\n",
    "                                       sampli)\n",
    "                                            \n",
    "    \"\"\"\n",
    "    \n",
    "    import numpy as np\n",
    "    \n",
    "    # zapisujemy unikalne numery trackow, ktore maja byc wczytane\n",
    "    jakie_sciezki = np.unique(lista_trackow)\n",
    "\n",
    "    # slownik, ktorego kolejne elementy to unikalne sciezki (key) wraz z ich zawartoscia (value)\n",
    "    sciezki = {}\n",
    "    \n",
    "    # zmienna do sprawdzenia czy zachowane jest odpowiednie metrum (liczba wierszy podzielna przez 4) w kazdej\n",
    "    # ze sciezek, jesli nie, to zwracana macierz bedzie zerowa\n",
    "    czy_4_na_4 = True\n",
    "    \n",
    "    # zmienna do sprawdzenia czy w kazdym tracku uzyto tyle samo sampli, jesli nie, zwracana macierz bedzie\n",
    "    # zerowa\n",
    "    czy_tyle_samo_sampli = True\n",
    "    \n",
    "    # lista zawierajaca ilosc uzytych sampli w kolejnych trackach\n",
    "    ile_sampli = []\n",
    "    \n",
    "    # cale to definiowanie slownika i szukanie unikalnych trackow po to by raz wczytac zawartosc uzywanych\n",
    "    # trackow a potem sie do niej odwolywac, a nie wczytywac za kazdym razem od nowa zawartosc trackow\n",
    "    \n",
    "    for ktora_sciezka in jakie_sciezki: # w iteratorze bierzemy napisy \"01\" \"02\" itd. stringi!!!\n",
    "        \n",
    "        # tworzymy napis z nazwa pliku tracka, np. \"track01.txt\"\n",
    "        plik = ''.join(['track',ktora_sciezka,'.txt'])\n",
    "        # wczytujemy zawartosc danego tracka do odpowiednio nazwanego elementu w slowniku sciezki\n",
    "        sciezki[ktora_sciezka] = np.genfromtxt(plik, dtype='str')\n",
    "        # dodajemy ilosc kanalow danego tracka do listy\n",
    "        ile_sampli.append(sciezki[ktora_sciezka].shape[1])\n",
    "        # sprawdzamy podzielnosc wierdzy danego tracka przez 4, jesli nie zachodzi, drukujemy odpowiedni\n",
    "        # komunikat i zmieniamy wartosc zmiennej logicznej czy_4_na_4 na False\n",
    "        if(sciezki[ktora_sciezka].shape[0] % 4 != 0):\n",
    "            print(\"Plik: \", plik, \" nie ma podzielnej przez 4 liczby wierszy\")\n",
    "            czy_4_na_4 = False\n",
    "\n",
    "    \n",
    "    # sprawdzamy czy ilosc uzytych sampli jest taka sama w kazdym tracku\n",
    "    if(len(set(ile_sampli))!=1): # set-em wyciagamy unikalne wartosci i sprawdzamy czy jest tylko jedna taka\n",
    "        print(\"Rozna liczba uzytych sampli w trackach\")\n",
    "        czy_tyle_samo_sampli = False\n",
    "    \n",
    "    # jedna zmienna odpowiadajaca za poprawnosc trackow\n",
    "    dobre_trackusie = czy_4_na_4 and czy_tyle_samo_sampli\n",
    "    \n",
    "    # jesli metrum i ilosc sampli sie zgadza zapisujemy zawartosc sciezek w piosence do numpy.ndarraya\n",
    "    if(dobre_trackusie):\n",
    " \n",
    "            # do zapisu poslugujemy sie lista i funkcja append na liscie, gdyz jest to bardziej efektywne\n",
    "            # niz append dla numpy.ndarraya, gdy nie znamy jego ostatecznych rozmiarow\n",
    "            piosenka = []\n",
    "            \n",
    "             # tym razem iterujemy po kolejnych trackach z lista_trackow, nie po unikalnnych nazwach trackow\n",
    "            for ktora_sciezka in lista_trackow:\n",
    "                piosenka.append(sciezki[ktora_sciezka]) #dodajemy odpowiednia wartosc ze slownika sciezki\n",
    "\n",
    "            #tworzymy z listy obiekt typu numpy.ndarray\n",
    "            piosenka = np.array(piosenka)\n",
    "            # obiekt ten zawiera kilka podmacierzy, wiec tworzymy z niego 1 macierz\n",
    "            piosenka = np.vstack(piosenka)\n",
    "    # gdy nie ma odpowiedniego metrum lub ilosci sampli zwracamy zerowa macierz      \n",
    "    else: \n",
    "        piosenka = np.array([0])\n",
    "\n",
    "    return piosenka, dobre_trackusie \n",
    "\n",
    "pios, k = wczytywanie_sciezek(a)"
   ]
  },
  {
   "cell_type": "code",
   "execution_count": 87,
   "metadata": {
    "collapsed": false
   },
   "outputs": [],
   "source": [
    "def wczytywanie_ustawien(plik_konfiguracyjny = \"defs.txt\"):\n",
    "    \"\"\" \n",
    "    wczytywanie pliku z ustawieniami (pliku defs.txt) do slownika, na razie zakladam, ze parametry beda \n",
    "    liczbami\n",
    "    \n",
    "    arg:\n",
    "        str: plik_konfiguracyjny - nazwa pliku konfiguracyjnego z podanymi wartosciami parametrow (tempo itd.)\n",
    "        \n",
    "    wyjscie:\n",
    "        dict: parametry - zapisane nazwy i wartosci uzywanych parametrow\n",
    "    \n",
    "    \"\"\"\n",
    "    import re\n",
    "    \n",
    "    # wczytuje zawartosc pliku (bez pierwszej i ostatniej linijki, jeden wiersz wyjsciowej macierzy, zawiera\n",
    "    # nazwe parametru i jego wartosc, jako oddzielne elementy, zapisane jako stringi)\n",
    "    ustawienia = np.genfromtxt(plik_konfiguracyjny, dtype = str, skip_header=1, skip_footer=1, delimiter=\":\")\n",
    "    \n",
    "    # tworze slownik, ktory bedzie przechowywal wartosci\n",
    "    parametry = {}\n",
    "    \n",
    "    # pozbywam się \"\" z key i przerabiam value na inty\n",
    "    \n",
    "    # jesli mamy 1 parametr, to ustawienia to zmienna o shape = (2,), wiec odwoluje sie bezposrednio do \n",
    "    # zmiennej ustawienia\n",
    "    if ustawienia.shape == (2,): \n",
    "        parametry[re.sub('\"','',ustawienia[0])] = int(ustawienia[1])\n",
    "    else: # jak mamy wiecej parametrow odwoluje sie do kolejnych linijek macierzy ustawienia\n",
    "        for l in ustawienia:  \n",
    "            parametry[re.sub('\"','',l[0])] = int(l[1])\n",
    "    \n",
    "    # zwracam gotowy slownik\n",
    "    return parametry\n",
    "\n",
    "b = wczytywanie_ustawien(\"defs.txt\")"
   ]
  },
  {
   "cell_type": "code",
   "execution_count": 88,
   "metadata": {
    "collapsed": false,
    "scrolled": true
   },
   "outputs": [
    {
     "name": "stderr",
     "output_type": "stream",
     "text": [
      "/home/rexamine/anaconda/lib/python3.4/site-packages/scipy/io/wavfile.py:172: WavFileWarning: Chunk (non-data) not understood, skipping it.\n",
      "  WavFileWarning)\n"
     ]
    },
    {
     "data": {
      "text/plain": [
       "array([   16,   -40,    32, ..., -4209, -4304, -4325], dtype=int16)"
      ]
     },
     "execution_count": 88,
     "metadata": {},
     "output_type": "execute_result"
    }
   ],
   "source": [
    "def tworzenie_piosenki(macierz_piosenki, czy_pelna = True, bpmy = 120):\n",
    "    \"\"\"\n",
    "    glowna funkcja generujaca cala piosenke\n",
    "    \n",
    "    arg:\n",
    "        numpy.ndarray (str: U2): macierz_piosenki - macierz zawierajaca definicje kolejnych cwiercnut \n",
    "                                (co ma byc grane w danej cwiercnucie)\n",
    "        bool: czy_pelna - zmienna sprawdzajaca czy macierz_piosenki jest zapisana (nie jest, gdy tracki mialy\n",
    "                          nieodpowiednia liczbe wierszy lub kolumn)\n",
    "        int: bpmy - tempo piosenki w jednostce bpm\n",
    "    \"\"\"\n",
    "    \n",
    "    # macierz piosenki byla pusta, piosenka nie zostala utworzona\n",
    "    if(czy_pelna == False):\n",
    "        print(\"Nie utworzono piosenki\")\n",
    "        return None \n",
    "    \n",
    "    else:\n",
    "    \n",
    "        import numpy as np\n",
    "        import scipy.io.wavfile\n",
    "        \n",
    "        t_cwiercnuty = 60 / bpmy # czas trwania jednej cwiercnuty (zalezy od tempa)\n",
    "        ile_cwiercnut = macierz_piosenki.shape[0] # ilosc cwiercnut\n",
    "        kanaly = macierz_piosenki.shape[1] # ilosc uzywanych sampli\n",
    "        frekw = 44100 # MOZE JAKO PARAMETR!!!!!!!!!!!!!!!!!!!!!!!!!!!!!\n",
    "        czas_utworu = ile_cwiercnut*t_cwiercnuty\n",
    "        ilosc_probek = int(frekw*czas_utworu) # ile elementow bedzie w nowym utworze\n",
    "        \n",
    "        # bedziemy tylko raz wczytywac zawartosc sampleXY.wav, wiec potrzebuje unikalne numery sampli\n",
    "        rozne_sample = np.unique(macierz_piosenki) # bierze lacznie z \"--\"\n",
    "        \n",
    "        # w slownikach zapiszemy parametry tych sampli\n",
    "        sample_co = {} # slownik z wartosciami danego sampla (tj. macierze numpy-owe z amplitudami)\n",
    "        sample_frekw = {} # slownik z ich frekwencjami\n",
    "        sample_dl = {} # slownik z ich dlugosciami\n",
    "        \n",
    "        #wczytujemy te sample\n",
    "        for ktory_sampel in rozne_sample: # w iteratorze bierzemy napisy \"01\" \"02\"  \"--\" itd. stringi!!!\n",
    "        \n",
    "            if(ktory_sampel != '--'):\n",
    "                # tworzymy napis z nazwa pliku sampla, np. \"sample01.wav\"\n",
    "                plik = ''.join(['sample',ktory_sampel,'.wav'])\n",
    "                # wczytujemy zawartosc i frekwencje danego sampla do odpowiednio nazwanego elementu \n",
    "                # w slowniku sample_co i sample_frekw\n",
    "                sample_frekw[ktory_sampel], sample_co[ktory_sampel] = scipy.io.wavfile.read(plik)\n",
    "                # tworzymy mono z naszego sampla\n",
    "                sample_co[ktory_sampel] = np.mean(sample_co[ktory_sampel], axis=1)/32767\n",
    "                # normalizujemy te wartosci\n",
    "                sample_co[ktory_sampel] = np.int16(sample_co[ktory_sampel]/max(np.abs(sample_co[ktory_sampel]))\\\n",
    "                                                   *32767)\n",
    "                # zapisujemy dlugosc sampli, czyli ilosc probek ( = czas_trwania*frekwencja)\n",
    "                sample_dl[ktory_sampel] = sample_co[ktory_sampel].shape[0]\n",
    "                \n",
    "            else: # to samo robimy dla \"--\" recznie ustawiamy\n",
    "                sample_co[ktory_sampel] = np.zeros((1,), dtype=np.int16) # robimy cisze, gdy --\n",
    "                sample_frekw[ktory_sampel] = frekw # taka sama jak domyslna\n",
    "                sample_dl[ktory_sampel] = 0 # zakladamy czas 0 sekund\n",
    "         \n",
    "\n",
    "        \n",
    "        \n",
    "        \n",
    "        # definicja nowego utworu\n",
    "        T = np.linspace(0, czas_utworu, ilosc_probek)\n",
    "        \n",
    "        for wiersz in range(0, ile_cwiercnut): # ZMIEN TU NA ile_cwiercnut ZAMIAST 10!!!!!!!!!!!!!!!!!!!!!!!!!!!!!\n",
    "\n",
    "            sample = [] # wczytamy sample z danej cwiecnuty\n",
    "            dlugosci = [] # tu zapiszemy ich dlugosci w tej cwiercnucie\n",
    "\n",
    "            for i in range(0, kanaly):\n",
    "                \n",
    "                sampus = macierz_piosenki[wiersz,i]\n",
    "                sample.append(sample_co[sampus])   \n",
    "                dlugosci.append(sample_dl[sampus])\n",
    "\n",
    "                    \n",
    "            # bierzemy najdluzszy sample i w calosci bedziemy go odtwarzac; reszte zatem tez w calosci\n",
    "            # odtworzymy, a gdy sie skoncza damy cisze (zera)\n",
    "            maksik = max(dlugosci)\n",
    "            # mamy tutaj macierz 4 na max dlugosc, przygotowana do zlaczenia potem tych dzwiekow w jeden \n",
    "            pusty = np.int16(np.zeros((len(sample), maksik)))\n",
    "\n",
    "            # dodajemy nasze dzwieki do tej pustej\n",
    "            for k in range(0, len(sample)):\n",
    "                pusty[k][0:dlugosci[k]] = sample[k]\n",
    "\n",
    "            cwiercnuta = 0.2*pusty[0] + 0.4*pusty[1] + 0.3*pusty[2] + 0.1*pusty[3]#sum(pusty)\n",
    "            \n",
    "            # jesli dodanie ostatnich cwiercnut bedzie wiazalo sie z przekroczeniem dlugosci tworzonego\n",
    "            # utworu, obcinamy ostatnie dzwieki, tak by zmiescic sie w tej dlugosci\n",
    "            \n",
    "            # poczatek biezacej cwiercnuty \n",
    "            poczatek_cwiercnuty = int(wiersz*t_cwiercnuty*frekw)\n",
    "            \n",
    "            # jesli dodanie ostatnich cwiercnut bedzie wiazalo sie z przekroczeniem dlugosci tworzonego\n",
    "            # utworu, obcinamy ostatnie dzwieki, tak by zmiescic sie w tej dlugosci\n",
    "            if (poczatek_cwiercnuty + maksik) > ilosc_probek:\n",
    "                \n",
    "                T[poczatek_cwiercnuty:(poczatek_cwiercnuty + maksik)]=\\\n",
    "                cwiercnuta[0:len(T[poczatek_cwiercnuty:(poczatek_cwiercnuty + maksik)])]\n",
    "                \n",
    "            else:\n",
    "                T[poczatek_cwiercnuty:(poczatek_cwiercnuty + maksik)] += cwiercnuta\n",
    "        \n",
    "        T= np.array(T, dtype=np.int16)\n",
    "        \n",
    "\n",
    "        return T\n",
    "\n",
    "pios, k = wczytywanie_sciezek(a)\n",
    "wierszyk = tworzenie_piosenki(pios, k, b['bpm'])\n",
    "\n",
    "wierszyk"
   ]
  },
  {
   "cell_type": "code",
   "execution_count": 84,
   "metadata": {
    "collapsed": false
   },
   "outputs": [
    {
     "data": {
      "text/plain": [
       "array([ 0,  0,  0, ..., 22, 22, 23], dtype=int16)"
      ]
     },
     "execution_count": 84,
     "metadata": {},
     "output_type": "execute_result"
    }
   ],
   "source": []
  },
  {
   "cell_type": "code",
   "execution_count": 62,
   "metadata": {
    "collapsed": false
   },
   "outputs": [
    {
     "data": {
      "text/plain": [
       "array([ 0.])"
      ]
     },
     "execution_count": 62,
     "metadata": {},
     "output_type": "execute_result"
    }
   ],
   "source": [
    "h[0:1]"
   ]
  },
  {
   "cell_type": "code",
   "execution_count": 49,
   "metadata": {
    "collapsed": false
   },
   "outputs": [],
   "source": [
    "h = np.linspace(0,1,5.9) \n"
   ]
  },
  {
   "cell_type": "code",
   "execution_count": 91,
   "metadata": {
    "collapsed": false
   },
   "outputs": [],
   "source": [
    "import numpy as np\n",
    "import scipy.io.wavfile\n",
    "import scipy.signal\n",
    "\n",
    "# dac ifa ze jak wierszyk = none to nic nie robić\n",
    "\n",
    "scipy.io.wavfile.write('test1.wav', \n",
    "                           44100,\n",
    "                       wierszyk\n",
    "                        )\n"
   ]
  },
  {
   "cell_type": "code",
   "execution_count": 92,
   "metadata": {
    "collapsed": false
   },
   "outputs": [
    {
     "data": {
      "text/plain": [
       "[\"Playing WAVE '/home/rexamine/Desktop/test1.wav' : Signed 16 bit Little Endian, Rate 44100 Hz, Mono\"]"
      ]
     },
     "execution_count": 92,
     "metadata": {},
     "output_type": "execute_result"
    }
   ],
   "source": [
    "!!aplay /home/rexamine/Desktop/test1.wav"
   ]
  }
 ],
 "metadata": {
  "kernelspec": {
   "display_name": "Python 3",
   "language": "python",
   "name": "python3"
  },
  "language_info": {
   "codemirror_mode": {
    "name": "ipython",
    "version": 3
   },
   "file_extension": ".py",
   "mimetype": "text/x-python",
   "name": "python",
   "nbconvert_exporter": "python",
   "pygments_lexer": "ipython3",
   "version": "3.4.3"
  }
 },
 "nbformat": 4,
 "nbformat_minor": 0
}
