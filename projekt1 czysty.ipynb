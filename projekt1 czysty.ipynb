{
 "cells": [
  {
   "cell_type": "markdown",
   "metadata": {
    "collapsed": true
   },
   "source": [
    "Importujemy najpierw potrzebne pakiety"
   ]
  },
  {
   "cell_type": "code",
   "execution_count": 26,
   "metadata": {
    "collapsed": false
   },
   "outputs": [],
   "source": [
    "import numpy as np\n",
    "import scipy.io.wavfile\n",
    "import scipy.signal"
   ]
  },
  {
   "cell_type": "code",
   "execution_count": 25,
   "metadata": {
    "collapsed": false
   },
   "outputs": [],
   "source": [
    "def wczytywanie_piosenki(nazwa_piosenki = \"song.txt\"):\n",
    "    # \n",
    "    #dac asserty i doctringa ''''''\n",
    "    #okreslic jakos lokalizacje skad ma brac te pliki ze z tego samego folderu gdzie jest program z katalogu \n",
    "    # odpowiedniego dla utworu - jesli w ogole, bo jedno to wczytanie pliku o takiej nazwie, a drugie skad - \n",
    "    # chyba automatycznie wczytuje z miejsca skad uruchomil sie python??\n",
    "    \"\"\"\n",
    "    bedzie wczytywac zawartosc pliku song.txt do np.array zlozonego z macierzy n (liczba wierszy w song.txt) \n",
    "    na 1 - 1 wiersz bedzie odpowiadal jednemu trackowi - zapisane to bedzie jako string\n",
    "    \n",
    "    arg:\n",
    "    nazwa_piosenki - nazwa pliku tekstowego wraz z rozszerzeniem, typ: str, assert - ze nie podano stringa\n",
    "    reszta (ze podano zla sciezke zajmie sie genfromtxt)\n",
    "    \"\"\"\n",
    "    \n",
    "    import numpy as np\n",
    "\n",
    "    \n",
    "    song = np.genfromtxt(nazwa_piosenki,dtype='str')\n",
    "    \n",
    "    \n",
    "    return song"
   ]
  },
  {
   "cell_type": "code",
   "execution_count": 27,
   "metadata": {
    "collapsed": false
   },
   "outputs": [
    {
     "data": {
      "text/plain": [
       "array(['01', '02', '02', '01', '02'], \n",
       "      dtype='<U2')"
      ]
     },
     "execution_count": 27,
     "metadata": {},
     "output_type": "execute_result"
    }
   ],
   "source": [
    "a = wczytywanie_piosenki()\n",
    "a\n",
    "# czy nie bedzie trzeba wczytywac tego z folder /utwor1/track01.txt !!!!!!!!!!"
   ]
  },
  {
   "cell_type": "code",
   "execution_count": 28,
   "metadata": {
    "collapsed": false
   },
   "outputs": [],
   "source": [
    "def wczytywanie_sciezek(nazwa_piosenki):\n",
    "    #dac asserty i doctringa ''''''\n",
    "    #okreslic jakos lokalizacje skad ma brac te pliki ze z tego samego folderu gdzie jest program z katalogu \n",
    "    # odpowiedniego dla utworu\n",
    "    \n",
    "    # robimy z '01' napis 'track01.txt' by taki plik wczytac\n",
    "    \"\"\"\n",
    "    bedziemy na podstawie pliku song.txt wczytywac tracki, typ: numpy.ndarray, i zapiszemy je jako jedna \n",
    "    macierz - zlaczymy w calosc\n",
    "    \n",
    "    \n",
    "    \n",
    "    assert, ze nie ten typ\n",
    "    \n",
    "    arg:\n",
    "    nazwa_piosenki - np. array\n",
    "    \n",
    "    wyjscie:\n",
    "    macierz typu np.ndarray kazdy wiersz to jedna cwiercnuta, elementy wiersza jako stringi\n",
    "    \"\"\"\n",
    "    import numpy as np\n",
    "    \n",
    "    \n",
    "    \n",
    "    # ta funkcja zwraca np.ndarray, ktorego elementy sa juz posortowane; zakladam, ze sciezki ktore, sa podane\n",
    "    # w song.txt maja numery odpowiadajace ich liczbie, tj. jak mam 3 rozne sciezki w song.txt to ich nazwy to\n",
    "    # track01.txt, track02.txt, track03.txt, a nie np. track11.txt, track01.txt, track07.txt, to zalozenie\n",
    "    # potrzebne dalej\n",
    "    jakie_sciezki = np.unique(nazwa_piosenki)\n",
    "    \n",
    "    ile_sciezek = len(jakie_sciezki)\n",
    "    \n",
    "    #lista zwykla do trzymania sciezek, sciezka[0] - track01 (iterator trza cofnac)\n",
    "    sciezki = []\n",
    "    \n",
    "    \n",
    "    for ktora_sciezka in jakie_sciezki: # w iteratorze bierzemy napis \"01\" \"02\" itd. string!!!\n",
    "        plik = ''.join(['track',ktora_sciezka,'.txt']) # tworzymy napis z nazwa pliku tracka,tj \"track01.txt\"\n",
    "        #iterator ktora_sciezka przebiega po kolei numery (posortowane sa po unique)\n",
    "        s = np.genfromtxt(plik, dtype='str')\n",
    "        sciezki.append(s) # wczytujemy dane z niego\n",
    "    \n",
    "          \n",
    "    piosenka = []\n",
    "    for ktora_sciezka in nazwa_piosenki:       \n",
    "        piosenka.append(sciezki[int(ktora_sciezka)-1])\n",
    "    \n",
    "    #zliczamy ile jest kanalow ( kolumn w trackach)\n",
    "    ile_kanalow = sciezki[0].shape[1] # licze ile kolumn w plikach jest\n",
    "    \n",
    "    #zliczamy ile mamy cwiercnut\n",
    "    n = 0\n",
    "    for i in nazwa_piosenki:\n",
    "        \n",
    "        n += sciezki[int(i)-1].shape[0]\n",
    "    \n",
    "    #tworzymy z listy typ np.ndarray, ktory bedzie mial odpowiednie wymiary\n",
    "    piosenka = np.array(piosenka).reshape(n, ile_kanalow)\n",
    "    \n",
    "    \n",
    "    \n",
    "    \n",
    "    \n",
    "    return piosenka\n",
    "    \n",
    "    \n",
    "# machnąc w forze ze jak ktorys z trackow ma rozna liczbe kolumn to wywal blad albo\n",
    "# sprawdzanie co jest w piluk to juz inna funkcja\n"
   ]
  },
  {
   "cell_type": "code",
   "execution_count": 29,
   "metadata": {
    "collapsed": false
   },
   "outputs": [
    {
     "data": {
      "text/plain": [
       "{'bpm': 120}"
      ]
     },
     "execution_count": 29,
     "metadata": {},
     "output_type": "execute_result"
    }
   ],
   "source": [
    "import numpy as np\n",
    "def wczytywanie_ustawien(plik_konfiguracyjny = \"defs.txt\"):\n",
    "    \"\"\"\n",
    "    asserty \n",
    "    na razie zakladam, ze wszystkie parametry beda liczbami\n",
    "    \n",
    "    wczytywanie pliku z ustawieniami (pliku defs.txt)\n",
    "    \n",
    "    arg:\n",
    "        nazwa pliku konfiguracyjnego, typ: string\n",
    "        \n",
    "    wyjscie:\n",
    "        wartosci parametrow zapisane w slowniku, typ: dict\n",
    "    \n",
    "    \"\"\"\n",
    "    import re\n",
    "    # wczytuje zawartowsc pliku (bez pierwszej i ostatniej linijki, jeden wiersz wyjsciowej macierzy, zawiera\n",
    "    # nazwe parametru i jego wartosc, jako oddzielne elementy, zapisane jako stringi)\n",
    "    ustawienia = np.genfromtxt(plik_konfiguracyjny, dtype = str,skip_header=1,skip_footer=1, delimiter=\":\")\n",
    "    # tworze slownik, ktory bedzie przechowywal wartosci\n",
    "    parametry = {}\n",
    "    # tworze slownik\n",
    "    # pozbywam się \"\" z key i przerabiam value na inty\n",
    "    if len(ustawienia) == 2:\n",
    "        parametry[re.sub('\"','',ustawienia[0])] = int(ustawienia[1])\n",
    "    else:\n",
    "        for l in ustawienia:\n",
    "        \n",
    "            parametry[re.sub('\"','',l[0])] = int(l[1])\n",
    "    \n",
    "    # zwracam gotowy slownik\n",
    "    return parametry\n",
    "wczytywanie_ustawien()"
   ]
  },
  {
   "cell_type": "code",
   "execution_count": 30,
   "metadata": {
    "collapsed": false
   },
   "outputs": [
    {
     "name": "stderr",
     "output_type": "stream",
     "text": [
      "/home/rexamine/anaconda/lib/python3.4/site-packages/scipy/io/wavfile.py:172: WavFileWarning: Chunk (non-data) not understood, skipping it.\n",
      "  WavFileWarning)\n"
     ]
    },
    {
     "data": {
      "text/plain": [
       "array([  68, -114,  121, ...,   39,   39,   40], dtype=int16)"
      ]
     },
     "execution_count": 30,
     "metadata": {},
     "output_type": "execute_result"
    }
   ],
   "source": [
    "# NOWE PRZERÓBKA\n",
    "def tworzenie_piosenki(macierz_piosenki, bpmy = 120):\n",
    "    \"\"\"\n",
    "    asserty \n",
    "    glowna funkcja\n",
    "    \"\"\"\n",
    "    \n",
    "    t_cwiercnuty = 60 / bpmy\n",
    "    n = macierz_piosenki.shape[0]\n",
    "    kanaly = macierz_piosenki.shape[1]\n",
    "    \n",
    "    import numpy as np\n",
    "    import scipy.io.wavfile\n",
    "    import scipy.signal\n",
    "    \n",
    "    # utwor\n",
    "    T = np.linspace(0, n*t_cwiercnuty, 44100*n*t_cwiercnuty)\n",
    "        \n",
    "    calosc = np.zeros((1,))\n",
    "    for wiersz in range(0, 10): # ZMIEN TU NA N ZAMIAST 10\n",
    "        \n",
    "        sample = []\n",
    "        dlugosci = []\n",
    "        \n",
    "        for i in range(0, kanaly):\n",
    "            \n",
    "            if macierz_piosenki[wiersz,i] == '--':\n",
    "                sample.append(np.zeros((1,1)))    \n",
    "            else:\n",
    "                plik = ''.join(['sample', macierz_piosenki[wiersz,i],'.wav']) \n",
    "                frekw, t = scipy.io.wavfile.read(plik)\n",
    "                sample.append(t)\n",
    "                sample[i] = np.mean(sample[i], axis=1)/32767 # robi mono\n",
    "                sample[i] = np.int16(sample[i]/max(np.abs(sample[i]))*32767)\n",
    "                dlugosci.append(sample[i].shape[0])\n",
    "        \n",
    "        maksik = max(dlugosci)\n",
    "        pusty = np.int16(np.zeros((len(sample), maksik)))\n",
    "        for k in range(0, len(sample)):\n",
    "            pusty[k][0:sample[k].shape[0]] = sample[k]\n",
    "                \n",
    "        cwiercnuta = sum(pusty)\n",
    "        if (wiersz*t_cwiercnuty*44100 + maksik) > len(T):\n",
    "            T[wiersz*t_cwiercnuty*44100:(wiersz*t_cwiercnuty*44100 + maksik)]= cwiercnuta[0:len(T[wiersz*t_cwiercnuty*44100:(wiersz*t_cwiercnuty*44100 + maksik)])]\n",
    "        else:\n",
    "            T[wiersz*t_cwiercnuty*44100:(wiersz*t_cwiercnuty*44100 + maksik)]= cwiercnuta\n",
    "        \n",
    "\n",
    "        \n",
    "        \n",
    "        \n",
    "        #print(len(T[wiersz*t_cwiercnuty*44100:(wiersz*t_cwiercnuty*44100 + maksik)]))\n",
    "        #print(len(cwiercnuta))\n",
    "        #print(type(T[wiersz*t_cwiercnuty*44100:(wiersz*t_cwiercnuty*44100 + maksik)]))\n",
    "        \n",
    "    T= np.array(T, dtype=np.int16)\n",
    "    return T\n",
    "\n",
    "\n",
    "wierszyk = tworzenie_piosenki(wczytywanie_sciezek(a), b['bpm'])\n",
    "wierszyk\n",
    "# jak w to wcisnac bmpki?"
   ]
  },
  {
   "cell_type": "code",
   "execution_count": 31,
   "metadata": {
    "collapsed": false
   },
   "outputs": [
    {
     "data": {
      "text/plain": [
       "[\"Playing WAVE '/home/rexamine/Desktop/test1.wav' : Signed 16 bit Little Endian, Rate 44100 Hz, Mono\"]"
      ]
     },
     "execution_count": 31,
     "metadata": {},
     "output_type": "execute_result"
    }
   ],
   "source": [
    "import numpy as np\n",
    "import scipy.io.wavfile\n",
    "import scipy.signal\n",
    "scipy.io.wavfile.write('test1.wav', \n",
    "                           44100,\n",
    "                       wierszyk\n",
    "                        )\n",
    "!!aplay /home/rexamine/Desktop/test1.wav\n"
   ]
  },
  {
   "cell_type": "code",
   "execution_count": 15,
   "metadata": {
    "collapsed": false
   },
   "outputs": [
    {
     "data": {
      "text/plain": [
       "'/home/rexamine/Desktop'"
      ]
     },
     "execution_count": 15,
     "metadata": {},
     "output_type": "execute_result"
    }
   ],
   "source": [
    "import os\n",
    "os.getcwd()"
   ]
  },
  {
   "cell_type": "code",
   "execution_count": null,
   "metadata": {
    "collapsed": true
   },
   "outputs": [],
   "source": []
  },
  {
   "cell_type": "code",
   "execution_count": null,
   "metadata": {
    "collapsed": true
   },
   "outputs": [],
   "source": []
  },
  {
   "cell_type": "code",
   "execution_count": null,
   "metadata": {
    "collapsed": true
   },
   "outputs": [],
   "source": []
  }
 ],
 "metadata": {
  "kernelspec": {
   "display_name": "Python 3",
   "language": "python",
   "name": "python3"
  },
  "language_info": {
   "codemirror_mode": {
    "name": "ipython",
    "version": 3
   },
   "file_extension": ".py",
   "mimetype": "text/x-python",
   "name": "python",
   "nbconvert_exporter": "python",
   "pygments_lexer": "ipython3",
   "version": "3.4.3"
  }
 },
 "nbformat": 4,
 "nbformat_minor": 0
}
