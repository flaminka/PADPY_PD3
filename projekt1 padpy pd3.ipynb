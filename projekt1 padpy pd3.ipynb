{
 "cells": [
  {
   "cell_type": "markdown",
   "metadata": {
    "collapsed": true
   },
   "source": [
    "Importujemy najpierw potrzebne pakiety"
   ]
  },
  {
   "cell_type": "code",
   "execution_count": 3,
   "metadata": {
    "collapsed": false
   },
   "outputs": [],
   "source": [
    "import numpy as np\n",
    "import scipy.io.wavfile\n",
    "import scipy.signal\n",
    "#https://dzone.com/articles/sound-synthesis-numpy\n",
    "#    http://ptolemy.eecs.berkeley.edu/eecs20/week8/scale.html"
   ]
  },
  {
   "cell_type": "code",
   "execution_count": 18,
   "metadata": {
    "collapsed": false
   },
   "outputs": [
    {
     "data": {
      "text/plain": [
       "(2, 3)"
      ]
     },
     "execution_count": 18,
     "metadata": {},
     "output_type": "execute_result"
    }
   ],
   "source": [
    "b = np.array([[\"a\", \"b\", \"c\"], [\"s\",\"S\",\"s\"]])\n",
    "b.shape"
   ]
  },
  {
   "cell_type": "markdown",
   "metadata": {},
   "source": [
    "ZAPISYWANIE UTWORZONEGO SYGNALU DO PLIKU"
   ]
  },
  {
   "cell_type": "code",
   "execution_count": 35,
   "metadata": {
    "collapsed": false
   },
   "outputs": [
    {
     "ename": "NameError",
     "evalue": "name 'write' is not defined",
     "output_type": "error",
     "traceback": [
      "\u001b[1;31m---------------------------------------------------------------------------\u001b[0m",
      "\u001b[1;31mNameError\u001b[0m                                 Traceback (most recent call last)",
      "\u001b[1;32m<ipython-input-35-0f5a37875a43>\u001b[0m in \u001b[0;36m<module>\u001b[1;34m()\u001b[0m\n\u001b[0;32m      6\u001b[0m \u001b[0mdata\u001b[0m \u001b[1;33m=\u001b[0m \u001b[0mnp\u001b[0m\u001b[1;33m.\u001b[0m\u001b[0mrandom\u001b[0m\u001b[1;33m.\u001b[0m\u001b[0muniform\u001b[0m\u001b[1;33m(\u001b[0m\u001b[1;33m-\u001b[0m\u001b[1;36m1\u001b[0m\u001b[1;33m,\u001b[0m\u001b[1;36m1\u001b[0m\u001b[1;33m,\u001b[0m\u001b[1;36m44100\u001b[0m\u001b[1;33m)\u001b[0m \u001b[1;31m# 44100 random samples between -1 and 1\u001b[0m\u001b[1;33m\u001b[0m\u001b[0m\n\u001b[0;32m      7\u001b[0m \u001b[0mscaled\u001b[0m \u001b[1;33m=\u001b[0m \u001b[0mnp\u001b[0m\u001b[1;33m.\u001b[0m\u001b[0mint16\u001b[0m\u001b[1;33m(\u001b[0m\u001b[0mdata\u001b[0m\u001b[1;33m/\u001b[0m\u001b[0mnp\u001b[0m\u001b[1;33m.\u001b[0m\u001b[0mmax\u001b[0m\u001b[1;33m(\u001b[0m\u001b[0mnp\u001b[0m\u001b[1;33m.\u001b[0m\u001b[0mabs\u001b[0m\u001b[1;33m(\u001b[0m\u001b[0mdata\u001b[0m\u001b[1;33m)\u001b[0m\u001b[1;33m)\u001b[0m \u001b[1;33m*\u001b[0m \u001b[1;36m32767\u001b[0m\u001b[1;33m)\u001b[0m \u001b[1;31m#przeskalowany sygnal\u001b[0m\u001b[1;33m\u001b[0m\u001b[0m\n\u001b[1;32m----> 8\u001b[1;33m \u001b[0mwrite\u001b[0m\u001b[1;33m(\u001b[0m\u001b[1;34m'test.wav'\u001b[0m\u001b[1;33m,\u001b[0m \u001b[1;36m44100\u001b[0m\u001b[1;33m,\u001b[0m \u001b[0mscaled\u001b[0m\u001b[1;33m)\u001b[0m \u001b[1;31m#zapisujemy go do pliku\u001b[0m\u001b[1;33m\u001b[0m\u001b[0m\n\u001b[0m\u001b[0;32m      9\u001b[0m \u001b[1;31m# fs =44100 - taki zwyczaj sample rate\u001b[0m\u001b[1;33m\u001b[0m\u001b[1;33m\u001b[0m\u001b[0m\n",
      "\u001b[1;31mNameError\u001b[0m: name 'write' is not defined"
     ]
    }
   ],
   "source": [
    "scipy.io.wavfile.write('/home/rexamine/Desktop/test.wav', #plik do ktorego zapiszemy\n",
    "                       fs, # the sample rate, czestotliwosc probkowania\n",
    "                       np.int16(y/max(np.abs(y))*32767) #co ma byc zapisane #????? dlaczego taka normalizacja, mnozenie\n",
    "                      )\n",
    "#potrzebne jest przeskalowanie wektora do intow z floatow, i to sie robi ta normalizacja\n",
    "data = np.random.uniform(-1,1,44100) # 44100 random samples between -1 and 1\n",
    "scaled = np.int16(data/np.max(np.abs(data)) * 32767) #przeskalowany sygnal\n",
    "write('test.wav', 44100, scaled) #zapisujemy go do pliku\n",
    "# fs =44100 - taki zwyczaj sample rate"
   ]
  },
  {
   "cell_type": "markdown",
   "metadata": {},
   "source": [
    "ODTWARZAMY PLIK W JUPYTERZE"
   ]
  },
  {
   "cell_type": "code",
   "execution_count": 36,
   "metadata": {
    "collapsed": false
   },
   "outputs": [
    {
     "data": {
      "text/plain": [
       "[\"Playing WAVE '/home/rexamine/Desktop/test.wav' : Signed 16 bit Little Endian, Rate 44100 Hz, Mono\"]"
      ]
     },
     "execution_count": 36,
     "metadata": {},
     "output_type": "execute_result"
    }
   ],
   "source": [
    "!!aplay /home/rexamine/Desktop/test.wav"
   ]
  },
  {
   "cell_type": "markdown",
   "metadata": {},
   "source": [
    "TWORZENIE SYGNALU"
   ]
  },
  {
   "cell_type": "code",
   "execution_count": 34,
   "metadata": {
    "collapsed": false
   },
   "outputs": [
    {
     "ename": "NameError",
     "evalue": "name 'sin' is not defined",
     "output_type": "error",
     "traceback": [
      "\u001b[1;31m---------------------------------------------------------------------------\u001b[0m",
      "\u001b[1;31mNameError\u001b[0m                                 Traceback (most recent call last)",
      "\u001b[1;32m<ipython-input-34-8e8134ab0842>\u001b[0m in \u001b[0;36m<module>\u001b[1;34m()\u001b[0m\n\u001b[0;32m      8\u001b[0m \u001b[1;33m\u001b[0m\u001b[0m\n\u001b[0;32m      9\u001b[0m \u001b[0mff\u001b[0m \u001b[1;33m=\u001b[0m \u001b[1;36m5\u001b[0m\u001b[1;33m;\u001b[0m   \u001b[1;31m# frequency of the signal\u001b[0m\u001b[1;33m\u001b[0m\u001b[0m\n\u001b[1;32m---> 10\u001b[1;33m \u001b[0my\u001b[0m \u001b[1;33m=\u001b[0m \u001b[0msin\u001b[0m\u001b[1;33m(\u001b[0m\u001b[1;36m2\u001b[0m\u001b[1;33m*\u001b[0m\u001b[0mpi\u001b[0m\u001b[1;33m*\u001b[0m\u001b[0mff\u001b[0m\u001b[1;33m*\u001b[0m\u001b[0mt\u001b[0m\u001b[1;33m)\u001b[0m\u001b[1;33m\u001b[0m\u001b[0m\n\u001b[0m\u001b[0;32m     11\u001b[0m \u001b[1;33m\u001b[0m\u001b[0m\n\u001b[0;32m     12\u001b[0m \u001b[0my_A4\u001b[0m \u001b[1;33m=\u001b[0m \u001b[0mnp\u001b[0m\u001b[1;33m.\u001b[0m\u001b[0msin\u001b[0m\u001b[1;33m(\u001b[0m\u001b[1;36m2\u001b[0m\u001b[1;33m*\u001b[0m\u001b[0mnp\u001b[0m\u001b[1;33m.\u001b[0m\u001b[0mpi\u001b[0m\u001b[1;33m*\u001b[0m\u001b[0mf\u001b[0m\u001b[1;33m*\u001b[0m\u001b[0mt\u001b[0m\u001b[1;33m)\u001b[0m\u001b[1;33m\u001b[0m\u001b[0m\n",
      "\u001b[1;31mNameError\u001b[0m: name 'sin' is not defined"
     ]
    }
   ],
   "source": [
    "f = 400 # czestotliwosc w Hz t/T\n",
    "T = 1 # okres chyba \n",
    "fs = 44100 # Hz, sampling frequency, czestotliwosc probkowania\n",
    "# ile bedzie probek pobranych (dyskretyzacja sygnalu)\n",
    "t = np.linspace(0, T, T*fs) # czyli dzielimy okres 1 sekundy na 44100 punkty\n",
    "stala = 2**(1/12) #o polton zmiana\n",
    "\n",
    "\n",
    "ff = 5;   # frequency of the signal\n",
    "y = sin(2*pi*ff*t)\n",
    "\n",
    "y_A4 = np.sin(2*np.pi*f*t)\n",
    "y_C5 = np.sin(2*np.pi*f*t*(stala**3))\n",
    "y_E5 = np.sin(2*np.pi*f*t*(stala**7))\n",
    "\n",
    "\n",
    "# DŻWIĘKI GRAJĄ PO SOBIE\n",
    "y = np.concatenate((y_A4, y_C5, y_E5))\n",
    "y_A4 = np.r_[np.sign(np.sin(2*np.pi*f*t)), #INNY SPOSOB\n",
    "             np.sin(2*np.pi*f*t)]\n",
    "# DZWIEKI GRAJA NA RAZ\n",
    "y = y_A4 + y_C5 + y_E5\n",
    "\n",
    "# ROZNE DZWIEKI\n",
    "np.sign(np.sin(2*np.pi*f*t))\n",
    "np.sin(2*np.pi*f*t)\n",
    "scipy.signal.sawtooth(2*np.pi*f*t) # PILOKSZTALTNA?"
   ]
  },
  {
   "cell_type": "markdown",
   "metadata": {},
   "source": [
    "TA FUNKCJA Z ATTACK DECAY SUSTAIN"
   ]
  },
  {
   "cell_type": "code",
   "execution_count": 7,
   "metadata": {
    "collapsed": false
   },
   "outputs": [
    {
     "data": {
      "text/plain": [
       "[\"Playing WAVE '/home/rexamine/Desktop/test.wav' : Signed 16 bit Little Endian, Rate 44100 Hz, Mono\"]"
      ]
     },
     "execution_count": 7,
     "metadata": {},
     "output_type": "execute_result"
    }
   ],
   "source": [
    "#attack, sustain, decey? a w procentach jako 0.1 d 0.3, t w sekundach\n",
    "# T/2 - polnuta, T/4 cwiercnuta\n",
    "def dzwiek(f, T, a, d):\n",
    "    \n",
    "    import numpy as np\n",
    "    import scipy.signal\n",
    "    fs = 44100 # Hz, sampling frequency\n",
    "    t = np.linspace(0, T, T*fs)\n",
    "    y = np.sin(2*np.pi*f*t + 0.1) #+ 0.15*scipy.signal.sawtooth(2*np.pi*f*t) ###\n",
    "    y[0:int(T*fs*a)] *= np.linspace(0, 1, int(T*fs*a))\n",
    "    y[-int(T*fs*d):-1] *= np.linspace(1, 0, int(T*fs*d)-1) #cos tu sie wywala\n",
    "    return y\n",
    "\n",
    "S = pow(2,1/12)\n",
    "import scipy.io.wavfile\n",
    "y = np.r_[dzwiek(440*S**(-2), 0.5, 0.2, 0.4),\n",
    "          dzwiek(440*S**(-5), 0.5, 0.2, 0.4),\n",
    "          dzwiek(440*S**(-5), 0.5, 0.2, 0.4)]\n",
    "scipy.io.wavfile.write('/home/rexamine/Desktop/test.wav', #plik do ktorego zapiszemy\n",
    "                       fs, # the sample rate, czestotliwosc probkowania\n",
    "                       np.int16(y/max(np.abs(y))*32767) #co ma byc zapisane #????? dlaczego taka normalizacja, mnozenie\n",
    "                      )\n",
    "!!aplay /home/rexamine/Desktop/test.wav"
   ]
  },
  {
   "cell_type": "markdown",
   "metadata": {},
   "source": [
    "WCZYTYWANIE PLIKU DO JUPYTERA"
   ]
  },
  {
   "cell_type": "code",
   "execution_count": 38,
   "metadata": {
    "collapsed": false
   },
   "outputs": [
    {
     "name": "stdout",
     "output_type": "stream",
     "text": [
      "[[0 0]\n",
      " [0 0]\n",
      " [0 1]\n",
      " [2 2]\n",
      " [8 7]]\n"
     ]
    },
    {
     "data": {
      "text/plain": [
       "array([  0.00000000e+00,   0.00000000e+00,   1.52592547e-05, ...,\n",
       "         4.57777642e-05,   4.57777642e-05,   3.05185095e-05])"
      ]
     },
     "execution_count": 38,
     "metadata": {},
     "output_type": "execute_result"
    }
   ],
   "source": [
    "#ZAPISUJEMY CHYBA CZESTOTLIWOSC I SAM SYGNAL\n",
    "fs,y = scipy.io.wavfile.read('/home/rexamine/Desktop/padpy1516/wav_samples/Ensoniq-SQ-2-Piano-C2.wav')\n",
    "print(y[0:5])\n",
    "# stereo podaje lewy kanal i prawy kanal\n",
    "y = np.mean(y, axis=1) # robi mono\n",
    "y /= 32767 \n",
    "y"
   ]
  },
  {
   "cell_type": "code",
   "execution_count": 19,
   "metadata": {
    "collapsed": true
   },
   "outputs": [],
   "source": [
    "# popatrzec jak wczytuje jupyter te dzwieki i jak je zapisuje gdy robimy y =sin..."
   ]
  },
  {
   "cell_type": "markdown",
   "metadata": {},
   "source": [
    "COS TAM Z LACZENIEM DZWIEKU I ROBIENIEM PAUZ COS TAM COS"
   ]
  },
  {
   "cell_type": "code",
   "execution_count": 21,
   "metadata": {
    "collapsed": false
   },
   "outputs": [
    {
     "name": "stderr",
     "output_type": "stream",
     "text": [
      "/home/rexamine/anaconda/lib/python3.4/site-packages/scipy/io/wavfile.py:172: WavFileWarning: Chunk (non-data) not understood, skipping it.\n",
      "  WavFileWarning)\n"
     ]
    },
    {
     "ename": "ValueError",
     "evalue": "operands could not be broadcast together with shapes (4409,) (4410,) (4409,) ",
     "output_type": "error",
     "traceback": [
      "\u001b[1;31m---------------------------------------------------------------------------\u001b[0m",
      "\u001b[1;31mValueError\u001b[0m                                Traceback (most recent call last)",
      "\u001b[1;32m<ipython-input-21-9ea4828b5bf8>\u001b[0m in \u001b[0;36m<module>\u001b[1;34m()\u001b[0m\n\u001b[0;32m     25\u001b[0m \u001b[0mS\u001b[0m \u001b[1;33m=\u001b[0m \u001b[0mpow\u001b[0m\u001b[1;33m(\u001b[0m\u001b[1;36m2\u001b[0m\u001b[1;33m,\u001b[0m\u001b[1;36m1\u001b[0m\u001b[1;33m/\u001b[0m\u001b[1;36m12\u001b[0m\u001b[1;33m)\u001b[0m\u001b[1;33m\u001b[0m\u001b[0m\n\u001b[0;32m     26\u001b[0m \u001b[1;32mimport\u001b[0m \u001b[0mscipy\u001b[0m\u001b[1;33m.\u001b[0m\u001b[0mio\u001b[0m\u001b[1;33m.\u001b[0m\u001b[0mwavfile\u001b[0m\u001b[1;33m\u001b[0m\u001b[0m\n\u001b[1;32m---> 27\u001b[1;33m y = np.r_[dzwiek(440*S**(-2), 0.5, 0.2, 0.2),\n\u001b[0m\u001b[0;32m     28\u001b[0m           dzwiek(440*S**(-5), 0.5, 0.2, 0.2)]\n\u001b[0;32m     29\u001b[0m scipy.io.wavfile.write('/home/samba/baranowskae/Desktop/test.wav', \n",
      "\u001b[1;32m<ipython-input-21-9ea4828b5bf8>\u001b[0m in \u001b[0;36mdzwiek\u001b[1;34m(f, T, a, d)\u001b[0m\n\u001b[0;32m     20\u001b[0m     \u001b[0my\u001b[0m \u001b[1;33m=\u001b[0m \u001b[0mnp\u001b[0m\u001b[1;33m.\u001b[0m\u001b[0msin\u001b[0m\u001b[1;33m(\u001b[0m\u001b[1;36m2\u001b[0m\u001b[1;33m*\u001b[0m\u001b[0mnp\u001b[0m\u001b[1;33m.\u001b[0m\u001b[0mpi\u001b[0m\u001b[1;33m*\u001b[0m\u001b[0mf\u001b[0m\u001b[1;33m*\u001b[0m\u001b[0mt\u001b[0m \u001b[1;33m+\u001b[0m \u001b[1;36m0.1\u001b[0m\u001b[1;33m)\u001b[0m \u001b[1;33m+\u001b[0m \u001b[1;36m0.15\u001b[0m\u001b[1;33m*\u001b[0m\u001b[0mscipy\u001b[0m\u001b[1;33m.\u001b[0m\u001b[0msignal\u001b[0m\u001b[1;33m.\u001b[0m\u001b[0msawtooth\u001b[0m\u001b[1;33m(\u001b[0m\u001b[1;36m2\u001b[0m\u001b[1;33m*\u001b[0m\u001b[0mnp\u001b[0m\u001b[1;33m.\u001b[0m\u001b[0mpi\u001b[0m\u001b[1;33m*\u001b[0m\u001b[0mf\u001b[0m\u001b[1;33m*\u001b[0m\u001b[0mt\u001b[0m\u001b[1;33m)\u001b[0m \u001b[1;31m###\u001b[0m\u001b[1;33m\u001b[0m\u001b[0m\n\u001b[0;32m     21\u001b[0m     \u001b[0my\u001b[0m\u001b[1;33m[\u001b[0m\u001b[1;36m0\u001b[0m\u001b[1;33m:\u001b[0m\u001b[0mint\u001b[0m\u001b[1;33m(\u001b[0m\u001b[0mT\u001b[0m\u001b[1;33m*\u001b[0m\u001b[0mfs\u001b[0m\u001b[1;33m*\u001b[0m\u001b[0ma\u001b[0m\u001b[1;33m)\u001b[0m\u001b[1;33m]\u001b[0m \u001b[1;33m*=\u001b[0m \u001b[0mnp\u001b[0m\u001b[1;33m.\u001b[0m\u001b[0mlinspace\u001b[0m\u001b[1;33m(\u001b[0m\u001b[1;36m0\u001b[0m\u001b[1;33m,\u001b[0m \u001b[1;36m1\u001b[0m\u001b[1;33m,\u001b[0m \u001b[0mint\u001b[0m\u001b[1;33m(\u001b[0m\u001b[0mT\u001b[0m\u001b[1;33m*\u001b[0m\u001b[0mfs\u001b[0m\u001b[1;33m*\u001b[0m\u001b[0ma\u001b[0m\u001b[1;33m)\u001b[0m\u001b[1;33m)\u001b[0m\u001b[1;33m\u001b[0m\u001b[0m\n\u001b[1;32m---> 22\u001b[1;33m     \u001b[0my\u001b[0m\u001b[1;33m[\u001b[0m\u001b[1;33m-\u001b[0m\u001b[0mint\u001b[0m\u001b[1;33m(\u001b[0m\u001b[0mT\u001b[0m\u001b[1;33m*\u001b[0m\u001b[0mfs\u001b[0m\u001b[1;33m*\u001b[0m\u001b[0ma\u001b[0m\u001b[1;33m)\u001b[0m\u001b[1;33m:\u001b[0m\u001b[1;33m-\u001b[0m\u001b[1;36m1\u001b[0m\u001b[1;33m]\u001b[0m \u001b[1;33m*=\u001b[0m \u001b[0mnp\u001b[0m\u001b[1;33m.\u001b[0m\u001b[0mlinspace\u001b[0m\u001b[1;33m(\u001b[0m\u001b[1;36m1\u001b[0m\u001b[1;33m,\u001b[0m \u001b[1;36m0\u001b[0m\u001b[1;33m,\u001b[0m \u001b[0mint\u001b[0m\u001b[1;33m(\u001b[0m\u001b[0mT\u001b[0m\u001b[1;33m*\u001b[0m\u001b[0mfs\u001b[0m\u001b[1;33m*\u001b[0m\u001b[0md\u001b[0m\u001b[1;33m)\u001b[0m\u001b[1;33m,\u001b[0m\u001b[1;33m-\u001b[0m\u001b[1;36m1\u001b[0m\u001b[1;33m)\u001b[0m \u001b[1;31m# cos tu sie wywala\u001b[0m\u001b[1;33m\u001b[0m\u001b[0m\n\u001b[0m\u001b[0;32m     23\u001b[0m     \u001b[1;32mreturn\u001b[0m \u001b[0my\u001b[0m\u001b[1;33m\u001b[0m\u001b[0m\n\u001b[0;32m     24\u001b[0m \u001b[1;33m\u001b[0m\u001b[0m\n",
      "\u001b[1;31mValueError\u001b[0m: operands could not be broadcast together with shapes (4409,) (4410,) (4409,) "
     ]
    }
   ],
   "source": [
    "#polaczyc to w jedno by to wpadalo dobrze jakos, przesuniecia\n",
    "#trzeba zaczac od wektora pauz y= [0, 0, 0, .. ,0] i potem w odpowiednie miejsca wklejac\n",
    "# pakiet librosa trzeba doinstalowac, to dodatkowe do zabawy\n",
    "#rep, for ?\n",
    "\n",
    "fs,y = scipy.io.wavfile.read('/home/rexamine/Desktop/padpy1516/wav_samples/Bass-Drum-3.wav')\n",
    "fs1,y1 = scipy.io.wavfile.read('/home/rexamine/Desktop/padpy1516/wav_samples/Open-Hi-Hat-1.wav')\n",
    "\n",
    "y = np.mean(y, axis=1) # robi mono\n",
    "y /= 32767\n",
    "y1 = np.mean(y1, axis=1)\n",
    "\n",
    "\n",
    "def dzwiek(f, T, a, d):\n",
    "    \n",
    "    import numpy as np\n",
    "    import scipy.signal\n",
    "    fs = 44100 # Hz, sampling frequency\n",
    "    t = np.linspace(0, T, T*fs)\n",
    "    y = np.sin(2*np.pi*f*t + 0.1) + 0.15*scipy.signal.sawtooth(2*np.pi*f*t) ###\n",
    "    y[0:int(T*fs*a)] *= np.linspace(0, 1, int(T*fs*a))\n",
    "    y[-int(T*fs*a):-1] *= np.linspace(1, 0, int(T*fs*d),-1) # cos tu sie wywala\n",
    "    return y\n",
    "\n",
    "S = pow(2,1/12)\n",
    "import scipy.io.wavfile\n",
    "y = np.r_[dzwiek(440*S**(-2), 0.5, 0.2, 0.2),\n",
    "          dzwiek(440*S**(-5), 0.5, 0.2, 0.2)]\n",
    "scipy.io.wavfile.write('/home/samba/baranowskae/Desktop/test.wav', \n",
    "                           fs,\n",
    "                           np.int16(y/max(np.abs(y))*32767)\n",
    "                          )     \n",
    "!!aplay /home/samba/baranowskae/Desktop/test.wav\n",
    "\n"
   ]
  },
  {
   "cell_type": "markdown",
   "metadata": {},
   "source": [
    "czyli 120 bmp -> 120 cwiercnut na minute czyli 120/60 = 2, 2 cwiercnuty na sekunde (2 stukniecia)\n",
    "1 takt to 4 cwiercnuty (takt to 4 stukniecia, raz dwa trzy cztery, raz dwa ...) , czyli tutaj 1 takt bedzie gral 2 sekundy, albo inaczej 1 sekunda - 2 stukniecia\n",
    "60/120 - 0.5 - tyle trwa 1 cwiercnuta w tempie 120\n",
    "czyli 0.5s x 4 cwiercnuty = 2 sek - tyle trwa jeden takt\n",
    "\n",
    "Każdy takt reprezentowany jest przez 4 wiersze - czyli 1 wiersz to 1 cwiercnuta\n",
    "Takt to 4 ćwierćnuty\n",
    "A ćwierćnuta trwa 60/x sekund, gdzie tempo to x bpm\n",
    "Czyli jak masz 120 bpm, to ćwierćnuta trwa pół sekundy, czyli takt trwa dwie\n",
    "I Twój program ma puszczać 4 ścieżki naraz\n",
    "\n",
    "wiec wnioskuje ze kolumny to kanaly a wiersze cwiercnuty\n",
    "01 02 03 04\n",
    "-- -- 03 --\n",
    "-- 02 03 --\n",
    "-- -- 03 --\n"
   ]
  },
  {
   "cell_type": "markdown",
   "metadata": {},
   "source": [
    "### czytanie sampli tj. pliku track01.txt\n",
    "01 02 03 04\n",
    "-- -- 03 --\n",
    "-- 02 03 --\n",
    "-- -- 03 --\n",
    "01 02 03 04\n",
    "-- -- 03 --\n",
    "-- 02 03 --\n",
    "-- -- 03 --\n",
    "01 02 03 04\n",
    "-- -- 03 --\n",
    "-- 02 03 04\n",
    "-- -- 03 --\n",
    "01 02 03 04\n",
    "-- -- 03 04\n",
    "-- 02 03 04\n",
    "-- -- 03 04\n",
    "gdzie 01 - odnosi się do pliku sample01.wav znajdujacego sie w tym samym katalogu co track01.txt\n"
   ]
  },
  {
   "cell_type": "code",
   "execution_count": 22,
   "metadata": {
    "collapsed": true
   },
   "outputs": [],
   "source": [
    "#////////////////////////////////////////////////////////////\n",
    "# STARE\n",
    "def wczytywane_trackow(nazwa_tracka, lokalizacja):\n",
    "    #dac asserty i doctringa ''''''\n",
    "    #okreslic jakos lokalizacje skad ma brac te pliki ze z tego samego folderu gdzie jest program z katalogu \n",
    "    # odpowiedniego dla utworu\n",
    "    #nazwa_tracka = 01 02 jako tekst '01' '02'\n",
    "    \n",
    "    # robimy z '01' napis 'track01.txt' by taki plik wczytac\n",
    "    plik = ''.join(['track',zlo,'.txt.'])\n",
    "    track = open(plik)\n",
    "    \n",
    "    pierwszy_wiersz = track.readline() #jako string\n",
    "    \n",
    "    liczba_sampli = (len(pierwszy_wiersz) + 1) / 3 # ile na raz sampli mam puszczac\n",
    "    \n",
    "    \n",
    "    track.close()\n",
    "    \n",
    "    \n",
    "    #sprawdzic czy ten open i readline() dziala w ogole\n",
    "    \n",
    "    track = open('track01.txt')"
   ]
  },
  {
   "cell_type": "code",
   "execution_count": 19,
   "metadata": {
    "collapsed": false
   },
   "outputs": [
    {
     "data": {
      "text/plain": [
       "20"
      ]
     },
     "execution_count": 19,
     "metadata": {},
     "output_type": "execute_result"
    }
   ],
   "source": [
    "# trzeba policzyc lacznie ile plik ma sekund ()\n",
    "# dzwieki\n",
    "\n",
    "zlo = '01 02 03 04 05 06 07'\n",
    "len(zlo)\n",
    "\n",
    "#y = np.mean(y, axis=1) # robi mono - zrobic MONO\n",
    "\n",
    "# kolejne linijki (trwające 60/BMP = 60/ 120 = 0.5 sekundy) będziemy odtwarzac po kolei robiac konkatenacje\n",
    "# zeby jedna linijke odtworzyc naraz zrobimy + czyli zrobie y = 01 + 02 + 03 i one wszystkie beda mialy 1 sek\n",
    "# trwania? (albo zamienie je tak by trwaly sekunde to jest jak mam jedno uderze) teraz pytanie jak\n",
    "# strescic te sekunde grania do 0,5 sekundy?\n",
    "\n",
    "# tak wybiore pierwsze 0.5 sekundy dzwieku z = y[0:0.5*44100] (T - czas razy probkowanie 44100)\n",
    "\n",
    "\n",
    "# jak sprawic by cos co trwa 1 sek trwalo 0,25 sek"
   ]
  },
  {
   "cell_type": "code",
   "execution_count": 1,
   "metadata": {
    "collapsed": false
   },
   "outputs": [],
   "source": [
    "def wczytywanie_piosenki(nazwa_piosenki = \"song.txt\"):\n",
    "    # \n",
    "    #dac asserty i doctringa ''''''\n",
    "    #okreslic jakos lokalizacje skad ma brac te pliki ze z tego samego folderu gdzie jest program z katalogu \n",
    "    # odpowiedniego dla utworu - jesli w ogole, bo jedno to wczytanie pliku o takiej nazwie, a drugie skad - \n",
    "    # chyba automatycznie wczytuje z miejsca skad uruchomil sie python??\n",
    "    \"\"\"\n",
    "    bedzie wczytywac zawartosc pliku song.txt do np.array zlozonego z macierzy n (liczba wierszy w song.txt) \n",
    "    na 1 - 1 wiersz bedzie odpowiadal jednemu trackowi - zapisane to bedzie jako string\n",
    "    \n",
    "    arg:\n",
    "    nazwa_piosenki - nazwa pliku tekstowego wraz z rozszerzeniem, typ: str, assert - ze nie podano stringa\n",
    "    reszta (ze podano zla sciezke zajmie sie genfromtxt)\n",
    "    \"\"\"\n",
    "    \n",
    "    import numpy as np\n",
    "\n",
    "    \n",
    "    song = np.genfromtxt(nazwa_piosenki,dtype='str')\n",
    "    \n",
    "    \n",
    "    return song"
   ]
  },
  {
   "cell_type": "code",
   "execution_count": 2,
   "metadata": {
    "collapsed": false
   },
   "outputs": [
    {
     "data": {
      "text/plain": [
       "array(['01', '02', '02', '01', '02'], \n",
       "      dtype='<U2')"
      ]
     },
     "execution_count": 2,
     "metadata": {},
     "output_type": "execute_result"
    }
   ],
   "source": [
    "a = wczytywanie_piosenki()\n",
    "a\n",
    "# czy nie bedzie trzeba wczytywac tego z folder /utwor1/track01.txt !!!!!!!!!!"
   ]
  },
  {
   "cell_type": "code",
   "execution_count": 3,
   "metadata": {
    "collapsed": false
   },
   "outputs": [],
   "source": [
    "def wczytywanie_sciezek(nazwa_piosenki):\n",
    "    #dac asserty i doctringa ''''''\n",
    "    #okreslic jakos lokalizacje skad ma brac te pliki ze z tego samego folderu gdzie jest program z katalogu \n",
    "    # odpowiedniego dla utworu\n",
    "    \n",
    "    # robimy z '01' napis 'track01.txt' by taki plik wczytac\n",
    "    \"\"\"\n",
    "    bedziemy na podstawie pliku song.txt wczytywac tracki, typ: numpy.ndarray, i zapiszemy je jako jedna \n",
    "    macierz - zlaczymy w calosc\n",
    "    \n",
    "    \n",
    "    \n",
    "    assert, ze nie ten typ\n",
    "    \n",
    "    arg:\n",
    "    nazwa_piosenki - np. array\n",
    "    \n",
    "    wyjscie:\n",
    "    macierz typu np.ndarray kazdy wiersz to jedna cwiercnuta, elementy wiersza jako stringi\n",
    "    \"\"\"\n",
    "    import numpy as np\n",
    "    \n",
    "    \n",
    "    \n",
    "    # ta funkcja zwraca np.ndarray, ktorego elementy sa juz posortowane; zakladam, ze sciezki ktore, sa podane\n",
    "    # w song.txt maja numery odpowiadajace ich liczbie, tj. jak mam 3 rozne sciezki w song.txt to ich nazwy to\n",
    "    # track01.txt, track02.txt, track03.txt, a nie np. track11.txt, track01.txt, track07.txt, to zalozenie\n",
    "    # potrzebne dalej\n",
    "    jakie_sciezki = np.unique(nazwa_piosenki)\n",
    "    \n",
    "    ile_sciezek = len(jakie_sciezki)\n",
    "    \n",
    "    #lista zwykla do trzymania sciezek, sciezka[0] - track01 (iterator trza cofnac)\n",
    "    sciezki = []\n",
    "    \n",
    "    \n",
    "    for ktora_sciezka in jakie_sciezki: # w iteratorze bierzemy napis \"01\" \"02\" itd. string!!!\n",
    "        plik = ''.join(['track',ktora_sciezka,'.txt']) # tworzymy napis z nazwa pliku tracka,tj \"track01.txt\"\n",
    "        #iterator ktora_sciezka przebiega po kolei numery (posortowane sa po unique)\n",
    "        s = np.genfromtxt(plik, dtype='str')\n",
    "        sciezki.append(s) # wczytujemy dane z niego\n",
    "    \n",
    "          \n",
    "    piosenka = []\n",
    "    for ktora_sciezka in nazwa_piosenki:       \n",
    "        piosenka.append(sciezki[int(ktora_sciezka)-1])\n",
    "    \n",
    "    #zliczamy ile jest kanalow ( kolumn w trackach)\n",
    "    ile_kanalow = sciezki[0].shape[1] # licze ile kolumn w plikach jest\n",
    "    \n",
    "    #zliczamy ile mamy cwiercnut\n",
    "    n = 0\n",
    "    for i in nazwa_piosenki:\n",
    "        \n",
    "        n += sciezki[int(i)-1].shape[0]\n",
    "    \n",
    "    #tworzymy z listy typ np.ndarray, ktory bedzie mial odpowiednie wymiary\n",
    "    piosenka = np.array(piosenka).reshape(n, ile_kanalow)\n",
    "    \n",
    "    \n",
    "    \n",
    "    \n",
    "    \n",
    "    return piosenka\n",
    "    \n",
    "    \n",
    "# machnąc w forze ze jak ktorys z trackow ma rozna liczbe kolumn to wywal blad albo\n",
    "# sprawdzanie co jest w piluk to juz inna funkcja\n"
   ]
  },
  {
   "cell_type": "code",
   "execution_count": 92,
   "metadata": {
    "collapsed": false
   },
   "outputs": [
    {
     "data": {
      "text/plain": [
       "1"
      ]
     },
     "execution_count": 92,
     "metadata": {},
     "output_type": "execute_result"
    }
   ],
   "source": []
  },
  {
   "cell_type": "code",
   "execution_count": 78,
   "metadata": {
    "collapsed": false
   },
   "outputs": [
    {
     "data": {
      "text/plain": [
       "array([['01', '02', '03', '04'],\n",
       "       ['--', '--', '03', '--'],\n",
       "       ['--', '02', '03', '--'],\n",
       "       ['--', '--', '03', '--'],\n",
       "       ['01', '02', '03', '04'],\n",
       "       ['--', '--', '03', '--'],\n",
       "       ['--', '02', '03', '--'],\n",
       "       ['--', '--', '03', '--'],\n",
       "       ['01', '02', '03', '04'],\n",
       "       ['--', '--', '03', '--'],\n",
       "       ['--', '02', '03', '04'],\n",
       "       ['--', '--', '03', '--'],\n",
       "       ['01', '02', '03', '04'],\n",
       "       ['--', '--', '03', '04'],\n",
       "       ['--', '02', '03', '04'],\n",
       "       ['--', '--', '03', '04'],\n",
       "       ['01', '02', '03', '04'],\n",
       "       ['01', '--', '03', '--'],\n",
       "       ['--', '02', '03', '--'],\n",
       "       ['--', '--', '03', '--'],\n",
       "       ['01', '02', '03', '04'],\n",
       "       ['01', '--', '03', '--'],\n",
       "       ['--', '02', '03', '--'],\n",
       "       ['--', '--', '03', '--'],\n",
       "       ['01', '02', '03', '04'],\n",
       "       ['--', '--', '03', '--'],\n",
       "       ['01', '02', '03', '04'],\n",
       "       ['--', '--', '03', '--'],\n",
       "       ['01', '02', '03', '04'],\n",
       "       ['--', '--', '03', '04'],\n",
       "       ['--', '02', '03', '04'],\n",
       "       ['01', '--', '03', '04'],\n",
       "       ['01', '02', '03', '04'],\n",
       "       ['01', '--', '03', '--'],\n",
       "       ['--', '02', '03', '--'],\n",
       "       ['--', '--', '03', '--'],\n",
       "       ['01', '02', '03', '04'],\n",
       "       ['01', '--', '03', '--'],\n",
       "       ['--', '02', '03', '--'],\n",
       "       ['--', '--', '03', '--'],\n",
       "       ['01', '02', '03', '04'],\n",
       "       ['--', '--', '03', '--'],\n",
       "       ['01', '02', '03', '04'],\n",
       "       ['--', '--', '03', '--'],\n",
       "       ['01', '02', '03', '04'],\n",
       "       ['--', '--', '03', '04'],\n",
       "       ['--', '02', '03', '04'],\n",
       "       ['01', '--', '03', '04'],\n",
       "       ['01', '02', '03', '04'],\n",
       "       ['--', '--', '03', '--'],\n",
       "       ['--', '02', '03', '--'],\n",
       "       ['--', '--', '03', '--'],\n",
       "       ['01', '02', '03', '04'],\n",
       "       ['--', '--', '03', '--'],\n",
       "       ['--', '02', '03', '--'],\n",
       "       ['--', '--', '03', '--'],\n",
       "       ['01', '02', '03', '04'],\n",
       "       ['--', '--', '03', '--'],\n",
       "       ['--', '02', '03', '04'],\n",
       "       ['--', '--', '03', '--'],\n",
       "       ['01', '02', '03', '04'],\n",
       "       ['--', '--', '03', '04'],\n",
       "       ['--', '02', '03', '04'],\n",
       "       ['--', '--', '03', '04'],\n",
       "       ['01', '02', '03', '04'],\n",
       "       ['01', '--', '03', '--'],\n",
       "       ['--', '02', '03', '--'],\n",
       "       ['--', '--', '03', '--'],\n",
       "       ['01', '02', '03', '04'],\n",
       "       ['01', '--', '03', '--'],\n",
       "       ['--', '02', '03', '--'],\n",
       "       ['--', '--', '03', '--'],\n",
       "       ['01', '02', '03', '04'],\n",
       "       ['--', '--', '03', '--'],\n",
       "       ['01', '02', '03', '04'],\n",
       "       ['--', '--', '03', '--'],\n",
       "       ['01', '02', '03', '04'],\n",
       "       ['--', '--', '03', '04'],\n",
       "       ['--', '02', '03', '04'],\n",
       "       ['01', '--', '03', '04']], \n",
       "      dtype='<U2')"
      ]
     },
     "execution_count": 78,
     "metadata": {},
     "output_type": "execute_result"
    }
   ],
   "source": [
    "wczytywanie_sciezek(a)"
   ]
  },
  {
   "cell_type": "code",
   "execution_count": 80,
   "metadata": {
    "collapsed": false
   },
   "outputs": [
    {
     "data": {
      "text/plain": [
       "array([['01', '02', '03', '04'],\n",
       "       ['--', '--', '03', '--'],\n",
       "       ['--', '02', '03', '--'],\n",
       "       ['--', '--', '03', '--'],\n",
       "       ['01', '02', '03', '04'],\n",
       "       ['--', '--', '03', '--'],\n",
       "       ['--', '02', '03', '--'],\n",
       "       ['--', '--', '03', '--'],\n",
       "       ['01', '02', '03', '04'],\n",
       "       ['--', '--', '03', '--'],\n",
       "       ['--', '02', '03', '04'],\n",
       "       ['--', '--', '03', '--'],\n",
       "       ['01', '02', '03', '04'],\n",
       "       ['--', '--', '03', '04'],\n",
       "       ['--', '02', '03', '04'],\n",
       "       ['--', '--', '03', '04']], \n",
       "      dtype='<U2')"
      ]
     },
     "execution_count": 80,
     "metadata": {},
     "output_type": "execute_result"
    }
   ],
   "source": [
    "sciezka = np.genfromtxt(\"track01.txt\", dtype='str')\n",
    "lista = []\n",
    "lista.append(sciezka) \n",
    "lista.append(sciezka) \n",
    "np.array(lista)\n",
    "lista[0].reshape(32,2)\n",
    "sciezka\n",
    "# jak rozdzielic te wiersze "
   ]
  },
  {
   "cell_type": "code",
   "execution_count": 6,
   "metadata": {
    "collapsed": false
   },
   "outputs": [
    {
     "data": {
      "text/plain": [
       "120"
      ]
     },
     "execution_count": 6,
     "metadata": {},
     "output_type": "execute_result"
    }
   ],
   "source": [
    "import numpy as np\n",
    "def wczytywanie_ustawien(plik_konfiguracyjny = \"defs.txt\"):\n",
    "    \"\"\"\n",
    "    asserty \n",
    "    na razie zakladam, ze wszystkie parametry beda liczbami\n",
    "    \n",
    "    wczytywanie pliku z ustawieniami (pliku defs.txt)\n",
    "    \n",
    "    arg:\n",
    "        nazwa pliku konfiguracyjnego, typ: string\n",
    "        \n",
    "    wyjscie:\n",
    "        wartosci parametrow zapisane w slowniku, typ: dict\n",
    "    \n",
    "    \"\"\"\n",
    "    import re\n",
    "    # wczytuje zawartowsc pliku (bez pierwszej i ostatniej linijki, jeden wiersz wyjsciowej macierzy, zawiera\n",
    "    # nazwe parametru i jego wartosc, jako oddzielne elementy, zapisane jako stringi)\n",
    "    ustawienia = np.genfromtxt(plik_konfiguracyjny, dtype = str,skip_header=1,skip_footer=1, delimiter=\":\")\n",
    "    # tworze slownik, ktory bedzie przechowywal wartosci\n",
    "    parametry = {}\n",
    "    # tworze slownik\n",
    "    # pozbywam się \"\" z key i przerabiam value na inty\n",
    "    for l in ustawienia:\n",
    "        parametry[re.sub('\"','',l[0])] = int(l[1])\n",
    "    \n",
    "    # zwracam gotowy slownik\n",
    "    return parametry\n",
    "    \n",
    "b = wczytywanie_ustawien()\n",
    "b['bpm']"
   ]
  },
  {
   "cell_type": "code",
   "execution_count": 47,
   "metadata": {
    "collapsed": false
   },
   "outputs": [
    {
     "data": {
      "text/plain": [
       "dict"
      ]
     },
     "execution_count": 47,
     "metadata": {},
     "output_type": "execute_result"
    }
   ],
   "source": [
    "type({'jack': 4098, 'sjoerd': 4127})"
   ]
  },
  {
   "cell_type": "code",
   "execution_count": null,
   "metadata": {
    "collapsed": true
   },
   "outputs": [],
   "source": [
    "    listedline = line.strip().split('=') # split around the = sign\n",
    "    if len(listedline) > 1: # we have the = sign in there\n",
    "        newDict[listedline[0]] = listedline[1]"
   ]
  },
  {
   "cell_type": "code",
   "execution_count": 9,
   "metadata": {
    "collapsed": true
   },
   "outputs": [],
   "source": [
    "import numpy as np"
   ]
  },
  {
   "cell_type": "code",
   "execution_count": 14,
   "metadata": {
    "collapsed": false
   },
   "outputs": [
    {
     "name": "stderr",
     "output_type": "stream",
     "text": [
      "/home/rexamine/anaconda/lib/python3.4/site-packages/scipy/io/wavfile.py:172: WavFileWarning: Chunk (non-data) not understood, skipping it.\n",
      "  WavFileWarning)\n"
     ]
    },
    {
     "data": {
      "text/plain": [
       "array([   0,   68, -114, ...,    0,    0,    1], dtype=int16)"
      ]
     },
     "execution_count": 14,
     "metadata": {},
     "output_type": "execute_result"
    }
   ],
   "source": [
    "def tworzenie_piosenki(macierz_piosenki, bpmy = 120):\n",
    "    \"\"\"\n",
    "    asserty \n",
    "    glowna funkcja\n",
    "    \"\"\"\n",
    "    \n",
    "    t_cwiercnuty = 60 / bpmy\n",
    "    n = macierz_piosenki.shape[0]\n",
    "    kanaly = macierz_piosenki.shape[1]\n",
    "    \n",
    "    import numpy as np\n",
    "    import scipy.io.wavfile\n",
    "    import scipy.signal\n",
    "    \n",
    "    # utwor\n",
    "    T = np.linspace(0, t_cwiercnuty, n*t_cwiercnuty)\n",
    "        \n",
    "    calosc =np.zeros((1,))\n",
    "    for wiersz in range(0, n):\n",
    "        \n",
    "        sample = []\n",
    "        dlugosci = []\n",
    "        \n",
    "        for i in range(0, kanaly):\n",
    "            \n",
    "            if macierz_piosenki[wiersz,i] == '--':\n",
    "                sample.append(np.zeros((1,1)))    \n",
    "            else:\n",
    "                plik = ''.join(['sample',macierz_piosenki[wiersz,i],'.wav']) \n",
    "                frekw, t = scipy.io.wavfile.read(plik)\n",
    "                sample.append(t)\n",
    "                sample[i] = np.mean(sample[i], axis=1)/32767 # robi mono\n",
    "                sample[i] = np.int16(sample[i]/max(np.abs(sample[i]))*32767)\n",
    "                dlugosci.append(sample[i].shape[0])\n",
    "        \n",
    "        maksik = max(dlugosci)\n",
    "        pusty = np.int16(np.zeros((len(sample), maksik)))\n",
    "        for k in range(0, len(sample)):\n",
    "            pusty[k][0:sample[k].shape[0]] = sample[k]\n",
    "                \n",
    "        cwiercnuta = sum(pusty)\n",
    "        \n",
    "        calosc = np.concatenate((calosc,cwiercnuta))\n",
    "        \n",
    "    calosc = np.array(calosc, dtype=np.int16)\n",
    "    return calosc\n",
    "\n",
    "\n",
    "wierszyk = tworzenie_piosenki(wczytywanie_sciezek(a), b['bpm'])\n",
    "wierszyk\n",
    "# jak w to wcisnac bmpki?"
   ]
  },
  {
   "cell_type": "code",
   "execution_count": 16,
   "metadata": {
    "collapsed": false
   },
   "outputs": [
    {
     "data": {
      "text/plain": [
       "[\"Playing WAVE '/home/rexamine/Desktop/test1.wav' : Signed 16 bit Little Endian, Rate 44100 Hz, Mono\"]"
      ]
     },
     "execution_count": 16,
     "metadata": {},
     "output_type": "execute_result"
    }
   ],
   "source": [
    "import numpy as np\n",
    "import scipy.io.wavfile\n",
    "import scipy.signal\n",
    "scipy.io.wavfile.write('test1.wav', \n",
    "                           44100,\n",
    "                       wierszyk\n",
    "                        )\n",
    "!!aplay /home/rexamine/Desktop/test1.wav\n"
   ]
  },
  {
   "cell_type": "code",
   "execution_count": 15,
   "metadata": {
    "collapsed": false
   },
   "outputs": [
    {
     "data": {
      "text/plain": [
       "(6712460,)"
      ]
     },
     "execution_count": 15,
     "metadata": {},
     "output_type": "execute_result"
    }
   ],
   "source": [
    "y = np.array([1,1,1])\n",
    "x = np.array([2,3,2])\n",
    "np.concatenate((x,y))\n",
    "np.zeros((1,))\n",
    "wierszyk.shape"
   ]
  },
  {
   "cell_type": "code",
   "execution_count": null,
   "metadata": {
    "collapsed": true
   },
   "outputs": [],
   "source": []
  },
  {
   "cell_type": "code",
   "execution_count": 128,
   "metadata": {
    "collapsed": false
   },
   "outputs": [
    {
     "name": "stderr",
     "output_type": "stream",
     "text": [
      "/home/rexamine/anaconda/lib/python3.4/site-packages/scipy/io/wavfile.py:172: WavFileWarning: Chunk (non-data) not understood, skipping it.\n",
      "  WavFileWarning)\n"
     ]
    },
    {
     "data": {
      "text/plain": [
       "array([  1,   1, 106, ...,   0,   0,   1], dtype=int16)"
      ]
     },
     "execution_count": 128,
     "metadata": {},
     "output_type": "execute_result"
    }
   ],
   "source": [
    "import numpy as np\n",
    "import scipy.io.wavfile\n",
    "import scipy.signal\n",
    "fs, y = scipy.io.wavfile.read('sample01.wav') # 54941\n",
    "fs1, y1 = scipy.io.wavfile.read('sample03.wav') # 146054\n",
    "y = np.mean(y, axis=1) # robi mono\n",
    "y /= 32767\n",
    "y = np.int16(y/max(np.abs(y))*32767)\n",
    "y1 = np.mean(y1, axis=1)\n",
    "y1 /= 32767\n",
    "y1 = np.int16(y1/max(np.abs(y1))*32767)\n",
    "\n",
    "# laczenie po sobie \n",
    "z = np.r_[y,y1]\n",
    "\n",
    "scipy.io.wavfile.write('test1.wav', \n",
    "                           fs,\n",
    "                       np.int16(wierszyk[0])\n",
    "                        )\n",
    "!!aplay /home/rexamine/Desktop/test1.wav\n",
    "y"
   ]
  },
  {
   "cell_type": "code",
   "execution_count": null,
   "metadata": {
    "collapsed": true
   },
   "outputs": [],
   "source": []
  },
  {
   "cell_type": "code",
   "execution_count": null,
   "metadata": {
    "collapsed": true
   },
   "outputs": [],
   "source": []
  },
  {
   "cell_type": "code",
   "execution_count": null,
   "metadata": {
    "collapsed": true
   },
   "outputs": [],
   "source": []
  },
  {
   "cell_type": "code",
   "execution_count": null,
   "metadata": {
    "collapsed": true
   },
   "outputs": [],
   "source": []
  },
  {
   "cell_type": "code",
   "execution_count": null,
   "metadata": {
    "collapsed": true
   },
   "outputs": [],
   "source": []
  },
  {
   "cell_type": "code",
   "execution_count": null,
   "metadata": {
    "collapsed": true
   },
   "outputs": [],
   "source": []
  },
  {
   "cell_type": "code",
   "execution_count": null,
   "metadata": {
    "collapsed": true
   },
   "outputs": [],
   "source": []
  },
  {
   "cell_type": "code",
   "execution_count": null,
   "metadata": {
    "collapsed": true
   },
   "outputs": [],
   "source": []
  },
  {
   "cell_type": "code",
   "execution_count": 154,
   "metadata": {
    "collapsed": false
   },
   "outputs": [
    {
     "data": {
      "text/plain": [
       "[\"Playing WAVE '/home/rexamine/Desktop/test.wav' : Signed 16 bit Little Endian, Rate 44100 Hz, Mono\"]"
      ]
     },
     "execution_count": 154,
     "metadata": {},
     "output_type": "execute_result"
    }
   ],
   "source": [
    "#attack, sustain, decey? a w procentach jako 0.1 d 0.3, t w sekundach\n",
    "# T/2 - polnuta, T/4 cwiercnuta\n",
    "def dzwiek(f, T, a, d):\n",
    "    \n",
    "    import numpy as np\n",
    "    import scipy.signal\n",
    "    fs = 44100 # Hz, sampling frequency\n",
    "    t = np.linspace(0, T, T*fs)\n",
    "    y = np.sin(2*np.pi*f*t + 0.1) #+ 0.15*scipy.signal.sawtooth(2*np.pi*f*t) ###\n",
    "    y[0:int(T*fs*a)] *= np.linspace(0, 1, int(T*fs*a))\n",
    "    y[-int(T*fs*d):-1] *= np.linspace(1, 0, int(T*fs*d)-1) #cos tu sie wywala\n",
    "    return y\n",
    "\n",
    "S = pow(2,1/12)\n",
    "import scipy.io.wavfile\n",
    "y = np.r_[dzwiek(440*S**(-2), 0.5, 0.2, 0.4),\n",
    "          dzwiek(440*S**(-5), 0.5, 0.2, 0.4),\n",
    "          dzwiek(440*S**(-5), 0.5, 0.2, 0.4)]\n",
    "scipy.io.wavfile.write('/home/rexamine/Desktop/test.wav', #plik do ktorego zapiszemy\n",
    "                       fs, # the sample rate, czestotliwosc probkowania\n",
    "                       np.int16(y/max(np.abs(y))*32767) #co ma byc zapisane #????? dlaczego taka normalizacja, mnozenie\n",
    "                      )\n",
    "!!aplay /home/rexamine/Desktop/test.wav"
   ]
  },
  {
   "cell_type": "code",
   "execution_count": null,
   "metadata": {
    "collapsed": true
   },
   "outputs": [],
   "source": [
    "f = 400 # czestotliwosc w Hz t/T\n",
    "T = 1 # okres chyba \n",
    "fs = 44100 # Hz, sampling frequency, czestotliwosc probkowania\n",
    "# ile bedzie probek pobranych (dyskretyzacja sygnalu)\n",
    "t = np.linspace(0, T, T*fs) # czyli dzielimy okres 1 sekundy na 44100 punkty\n",
    "stala = 2**(1/12) #o polton zmiana\n",
    "\n",
    "\n",
    "ff = 5;   # frequency of the signal\n",
    "y = sin(2*pi*ff*t)\n",
    "\n",
    "y_A4 = np.sin(2*np.pi*f*t)\n",
    "y_C5 = np.sin(2*np.pi*f*t*(stala**3))\n",
    "y_E5 = np.sin(2*np.pi*f*t*(stala**7))\n",
    "\n",
    "\n",
    "# DŻWIĘKI GRAJĄ PO SOBIE\n",
    "y = np.concatenate((y_A4, y_C5, y_E5))\n",
    "y_A4 = np.r_[np.sign(np.sin(2*np.pi*f*t)), #INNY SPOSOB\n",
    "             np.sin(2*np.pi*f*t)]\n",
    "# DZWIEKI GRAJA NA RAZ\n",
    "y = y_A4 + y_C5 + y_E5\n",
    "\n",
    "# ROZNE DZWIEKI\n",
    "np.sign(np.sin(2*np.pi*f*t))\n",
    "np.sin(2*np.pi*f*t)\n",
    "scipy.signal.sawtooth(2*np.pi*f*t) # PILOKSZTALTNA?"
   ]
  },
  {
   "cell_type": "code",
   "execution_count": null,
   "metadata": {
    "collapsed": true
   },
   "outputs": [],
   "source": [
    "scipy.io.wavfile.write('/home/rexamine/Desktop/test.wav', #plik do ktorego zapiszemy\n",
    "                       fs, # the sample rate, czestotliwosc probkowania\n",
    "                       np.int16(y/max(np.abs(y))*32767) #co ma byc zapisane #????? dlaczego taka normalizacja, mnozenie\n",
    "                      )\n",
    "#potrzebne jest przeskalowanie wektora do intow z floatow, i to sie robi ta normalizacja\n",
    "data = np.random.uniform(-1,1,44100) # 44100 random samples between -1 and 1\n",
    "scaled = np.int16(data/np.max(np.abs(data)) * 32767) #przeskalowany sygnal\n",
    "write('test.wav', 44100, scaled) #zapisujemy go do pliku\n",
    "# fs =44100 - taki zwyczaj sample rate"
   ]
  },
  {
   "cell_type": "code",
   "execution_count": 90,
   "metadata": {
    "collapsed": false
   },
   "outputs": [
    {
     "name": "stderr",
     "output_type": "stream",
     "text": [
      "/home/rexamine/anaconda/lib/python3.4/site-packages/scipy/io/wavfile.py:172: WavFileWarning: Chunk (non-data) not understood, skipping it.\n",
      "  WavFileWarning)\n"
     ]
    },
    {
     "ename": "ValueError",
     "evalue": "operands could not be broadcast together with shapes (4409,) (4410,) (4409,) ",
     "output_type": "error",
     "traceback": [
      "\u001b[1;31m---------------------------------------------------------------------------\u001b[0m",
      "\u001b[1;31mValueError\u001b[0m                                Traceback (most recent call last)",
      "\u001b[1;32m<ipython-input-90-cc0bae2e1614>\u001b[0m in \u001b[0;36m<module>\u001b[1;34m()\u001b[0m\n\u001b[0;32m     25\u001b[0m \u001b[0mS\u001b[0m \u001b[1;33m=\u001b[0m \u001b[0mpow\u001b[0m\u001b[1;33m(\u001b[0m\u001b[1;36m2\u001b[0m\u001b[1;33m,\u001b[0m\u001b[1;36m1\u001b[0m\u001b[1;33m/\u001b[0m\u001b[1;36m12\u001b[0m\u001b[1;33m)\u001b[0m\u001b[1;33m\u001b[0m\u001b[0m\n\u001b[0;32m     26\u001b[0m \u001b[1;32mimport\u001b[0m \u001b[0mscipy\u001b[0m\u001b[1;33m.\u001b[0m\u001b[0mio\u001b[0m\u001b[1;33m.\u001b[0m\u001b[0mwavfile\u001b[0m\u001b[1;33m\u001b[0m\u001b[0m\n\u001b[1;32m---> 27\u001b[1;33m y = np.r_[dzwiek(440*S**(-2), 0.5, 0.2, 0.2),\n\u001b[0m\u001b[0;32m     28\u001b[0m           dzwiek(440*S**(-5), 0.5, 0.2, 0.2)]\n\u001b[0;32m     29\u001b[0m scipy.io.wavfile.write('/home/samba/baranowskae/Desktop/test.wav', \n",
      "\u001b[1;32m<ipython-input-90-cc0bae2e1614>\u001b[0m in \u001b[0;36mdzwiek\u001b[1;34m(f, T, a, d)\u001b[0m\n\u001b[0;32m     20\u001b[0m     \u001b[0my\u001b[0m \u001b[1;33m=\u001b[0m \u001b[0mnp\u001b[0m\u001b[1;33m.\u001b[0m\u001b[0msin\u001b[0m\u001b[1;33m(\u001b[0m\u001b[1;36m2\u001b[0m\u001b[1;33m*\u001b[0m\u001b[0mnp\u001b[0m\u001b[1;33m.\u001b[0m\u001b[0mpi\u001b[0m\u001b[1;33m*\u001b[0m\u001b[0mf\u001b[0m\u001b[1;33m*\u001b[0m\u001b[0mt\u001b[0m \u001b[1;33m+\u001b[0m \u001b[1;36m0.1\u001b[0m\u001b[1;33m)\u001b[0m \u001b[1;33m+\u001b[0m \u001b[1;36m0.15\u001b[0m\u001b[1;33m*\u001b[0m\u001b[0mscipy\u001b[0m\u001b[1;33m.\u001b[0m\u001b[0msignal\u001b[0m\u001b[1;33m.\u001b[0m\u001b[0msawtooth\u001b[0m\u001b[1;33m(\u001b[0m\u001b[1;36m2\u001b[0m\u001b[1;33m*\u001b[0m\u001b[0mnp\u001b[0m\u001b[1;33m.\u001b[0m\u001b[0mpi\u001b[0m\u001b[1;33m*\u001b[0m\u001b[0mf\u001b[0m\u001b[1;33m*\u001b[0m\u001b[0mt\u001b[0m\u001b[1;33m)\u001b[0m \u001b[1;31m###\u001b[0m\u001b[1;33m\u001b[0m\u001b[0m\n\u001b[0;32m     21\u001b[0m     \u001b[0my\u001b[0m\u001b[1;33m[\u001b[0m\u001b[1;36m0\u001b[0m\u001b[1;33m:\u001b[0m\u001b[0mint\u001b[0m\u001b[1;33m(\u001b[0m\u001b[0mT\u001b[0m\u001b[1;33m*\u001b[0m\u001b[0mfs\u001b[0m\u001b[1;33m*\u001b[0m\u001b[0ma\u001b[0m\u001b[1;33m)\u001b[0m\u001b[1;33m]\u001b[0m \u001b[1;33m*=\u001b[0m \u001b[0mnp\u001b[0m\u001b[1;33m.\u001b[0m\u001b[0mlinspace\u001b[0m\u001b[1;33m(\u001b[0m\u001b[1;36m0\u001b[0m\u001b[1;33m,\u001b[0m \u001b[1;36m1\u001b[0m\u001b[1;33m,\u001b[0m \u001b[0mint\u001b[0m\u001b[1;33m(\u001b[0m\u001b[0mT\u001b[0m\u001b[1;33m*\u001b[0m\u001b[0mfs\u001b[0m\u001b[1;33m*\u001b[0m\u001b[0ma\u001b[0m\u001b[1;33m)\u001b[0m\u001b[1;33m)\u001b[0m\u001b[1;33m\u001b[0m\u001b[0m\n\u001b[1;32m---> 22\u001b[1;33m     \u001b[0my\u001b[0m\u001b[1;33m[\u001b[0m\u001b[1;33m-\u001b[0m\u001b[0mint\u001b[0m\u001b[1;33m(\u001b[0m\u001b[0mT\u001b[0m\u001b[1;33m*\u001b[0m\u001b[0mfs\u001b[0m\u001b[1;33m*\u001b[0m\u001b[0ma\u001b[0m\u001b[1;33m)\u001b[0m\u001b[1;33m:\u001b[0m\u001b[1;33m-\u001b[0m\u001b[1;36m1\u001b[0m\u001b[1;33m]\u001b[0m \u001b[1;33m*=\u001b[0m \u001b[0mnp\u001b[0m\u001b[1;33m.\u001b[0m\u001b[0mlinspace\u001b[0m\u001b[1;33m(\u001b[0m\u001b[1;36m1\u001b[0m\u001b[1;33m,\u001b[0m \u001b[1;36m0\u001b[0m\u001b[1;33m,\u001b[0m \u001b[0mint\u001b[0m\u001b[1;33m(\u001b[0m\u001b[0mT\u001b[0m\u001b[1;33m*\u001b[0m\u001b[0mfs\u001b[0m\u001b[1;33m*\u001b[0m\u001b[0md\u001b[0m\u001b[1;33m)\u001b[0m\u001b[1;33m,\u001b[0m\u001b[1;33m-\u001b[0m\u001b[1;36m1\u001b[0m\u001b[1;33m)\u001b[0m \u001b[1;31m# cos tu sie wywala\u001b[0m\u001b[1;33m\u001b[0m\u001b[0m\n\u001b[0m\u001b[0;32m     23\u001b[0m     \u001b[1;32mreturn\u001b[0m \u001b[0my\u001b[0m\u001b[1;33m\u001b[0m\u001b[0m\n\u001b[0;32m     24\u001b[0m \u001b[1;33m\u001b[0m\u001b[0m\n",
      "\u001b[1;31mValueError\u001b[0m: operands could not be broadcast together with shapes (4409,) (4410,) (4409,) "
     ]
    }
   ],
   "source": [
    "#polaczyc to w jedno by to wpadalo dobrze jakos, przesuniecia\n",
    "#trzeba zaczac od wektora pauz y= [0, 0, 0, .. ,0] i potem w odpowiednie miejsca wklejac\n",
    "# pakiet librosa trzeba doinstalowac, to dodatkowe do zabawy\n",
    "#rep, for ?\n",
    "\n",
    "fs,y = scipy.io.wavfile.read('/home/rexamine/Desktop/padpy1516/wav_samples/Bass-Drum-3.wav')\n",
    "fs1,y1 = scipy.io.wavfile.read('/home/rexamine/Desktop/padpy1516/wav_samples/Open-Hi-Hat-1.wav')\n",
    "\n",
    "y = np.mean(y, axis=1) # robi mono\n",
    "y /= 32767\n",
    "y1 = np.mean(y1, axis=1)\n",
    "\n",
    "\n",
    "def dzwiek(f, T, a, d):\n",
    "    \n",
    "    import numpy as np\n",
    "    import scipy.signal\n",
    "    fs = 44100 # Hz, sampling frequency\n",
    "    t = np.linspace(0, T, T*fs)\n",
    "    y = np.sin(2*np.pi*f*t + 0.1) + 0.15*scipy.signal.sawtooth(2*np.pi*f*t) ###\n",
    "    y[0:int(T*fs*a)] *= np.linspace(0, 1, int(T*fs*a))\n",
    "    y[-int(T*fs*a):-1] *= np.linspace(1, 0, int(T*fs*d),-1) # cos tu sie wywala\n",
    "    return y\n",
    "\n",
    "S = pow(2,1/12)\n",
    "import scipy.io.wavfile\n",
    "y = np.r_[dzwiek(440*S**(-2), 0.5, 0.2, 0.2),\n",
    "          dzwiek(440*S**(-5), 0.5, 0.2, 0.2)]\n",
    "scipy.io.wavfile.write('/home/samba/baranowskae/Desktop/test.wav', \n",
    "                           fs,\n",
    "                           np.int16(y/max(np.abs(y))*32767)\n",
    "                          )     \n",
    "!!aplay /home/samba/baranowskae/Desktop/test.wav\n",
    "\n",
    "import numpy as np\n",
    "import scipy.io.wavfile\n",
    "import scipy.signal\n",
    "\n",
    "fs1,y1 = scipy.io.wavfile.read('sample01.wav')\n",
    "\n",
    "y = np.mean(y, axis=1) # robi mono\n",
    "y /= 32767\n",
    "y1 = np.mean(y1, axis=1)\n",
    "y1 /= 32767\n",
    "y1"
   ]
  },
  {
   "cell_type": "code",
   "execution_count": 146,
   "metadata": {
    "collapsed": false
   },
   "outputs": [
    {
     "name": "stderr",
     "output_type": "stream",
     "text": [
      "/home/rexamine/anaconda/lib/python3.4/site-packages/scipy/io/wavfile.py:172: WavFileWarning: Chunk (non-data) not understood, skipping it.\n",
      "  WavFileWarning)\n"
     ]
    },
    {
     "data": {
      "text/plain": [
       "[\"Playing WAVE '/home/rexamine/Desktop/test1.wav' : Float 32 bit Little Endian, Rate 44100 Hz, Stereo\"]"
      ]
     },
     "execution_count": 146,
     "metadata": {},
     "output_type": "execute_result"
    }
   ],
   "source": [
    "\n",
    "import numpy as np\n",
    "import scipy.io.wavfile\n",
    "import scipy.signal\n",
    "fs,y = scipy.io.wavfile.read('sample01.wav')\n",
    "\n",
    "fs,y1 = scipy.io.wavfile.read('sample02.wav')\n",
    "\n",
    "\n",
    "\n",
    "c = min(y.shape[0], y1.shape[0])\n",
    "\n",
    "#y = y[0:c]\n",
    "#y1 = y1[0:c]\n",
    "\n",
    "z= np.r_[y,y1]\n",
    "\n",
    "scipy.io.wavfile.write('test1.wav', \n",
    "                           fs,\n",
    "                           z)\n",
    "!!aplay /home/rexamine/Desktop/test1.wav"
   ]
  },
  {
   "cell_type": "code",
   "execution_count": 68,
   "metadata": {
    "collapsed": false
   },
   "outputs": [
    {
     "name": "stderr",
     "output_type": "stream",
     "text": [
      "/home/rexamine/anaconda/lib/python3.4/site-packages/scipy/io/wavfile.py:172: WavFileWarning: Chunk (non-data) not understood, skipping it.\n",
      "  WavFileWarning)\n"
     ]
    },
    {
     "ename": "NameError",
     "evalue": "name 'pusty' is not defined",
     "output_type": "error",
     "traceback": [
      "\u001b[1;31m---------------------------------------------------------------------------\u001b[0m",
      "\u001b[1;31mNameError\u001b[0m                                 Traceback (most recent call last)",
      "\u001b[1;32m<ipython-input-68-783cac7656f3>\u001b[0m in \u001b[0;36m<module>\u001b[1;34m()\u001b[0m\n\u001b[0;32m     23\u001b[0m \u001b[0mmini\u001b[0m \u001b[1;33m=\u001b[0m \u001b[0mmin\u001b[0m\u001b[1;33m(\u001b[0m\u001b[0my1\u001b[0m\u001b[1;33m.\u001b[0m\u001b[0mshape\u001b[0m\u001b[1;33m[\u001b[0m\u001b[1;36m0\u001b[0m\u001b[1;33m]\u001b[0m\u001b[1;33m,\u001b[0m \u001b[0my\u001b[0m\u001b[1;33m.\u001b[0m\u001b[0mshape\u001b[0m\u001b[1;33m[\u001b[0m\u001b[1;36m0\u001b[0m\u001b[1;33m]\u001b[0m\u001b[1;33m)\u001b[0m\u001b[1;33m\u001b[0m\u001b[0m\n\u001b[0;32m     24\u001b[0m \u001b[1;33m\u001b[0m\u001b[0m\n\u001b[1;32m---> 25\u001b[1;33m \u001b[0mpusty\u001b[0m\u001b[1;33m\u001b[0m\u001b[0m\n\u001b[0m\u001b[0;32m     26\u001b[0m \u001b[1;33m\u001b[0m\u001b[0m\n\u001b[0;32m     27\u001b[0m \u001b[1;33m\u001b[0m\u001b[0m\n",
      "\u001b[1;31mNameError\u001b[0m: name 'pusty' is not defined"
     ]
    }
   ],
   "source": []
  },
  {
   "cell_type": "code",
   "execution_count": 99,
   "metadata": {
    "collapsed": false
   },
   "outputs": [
    {
     "name": "stderr",
     "output_type": "stream",
     "text": [
      "/home/rexamine/anaconda/lib/python3.4/site-packages/scipy/io/wavfile.py:172: WavFileWarning: Chunk (non-data) not understood, skipping it.\n",
      "  WavFileWarning)\n"
     ]
    },
    {
     "data": {
      "text/plain": [
       "array([  9,  12, -32, ...,  -2,   0,   0], dtype=int16)"
      ]
     },
     "execution_count": 99,
     "metadata": {},
     "output_type": "execute_result"
    }
   ],
   "source": [
    "import numpy as np\n",
    "import scipy.io.wavfile\n",
    "import scipy.signal\n",
    "\n",
    "fs1,y1 = scipy.io.wavfile.read('sample04.wav')\n",
    "\n",
    "y1 = np.mean(y1, axis=1)\n",
    "y1 /= 32767\n",
    "y1 = np.int16(y1/max(np.abs(y1))*32767)\n",
    "y1"
   ]
  },
  {
   "cell_type": "code",
   "execution_count": 96,
   "metadata": {
    "collapsed": false
   },
   "outputs": [
    {
     "name": "stderr",
     "output_type": "stream",
     "text": [
      "/home/rexamine/anaconda/lib/python3.4/site-packages/scipy/io/wavfile.py:172: WavFileWarning: Chunk (non-data) not understood, skipping it.\n",
      "  WavFileWarning)\n"
     ]
    },
    {
     "data": {
      "text/plain": [
       "array([[   1.,    1.,  106., ...,    0.,    0.,    0.],\n",
       "       [ -11.,  -25.,  -76., ...,   -4.,   -4.,   -5.],\n",
       "       [  69., -102.,  123., ...,    0.,    0.,    0.],\n",
       "       [   9.,   12.,  -32., ...,    0.,    0.,    0.]])"
      ]
     },
     "execution_count": 96,
     "metadata": {},
     "output_type": "execute_result"
    }
   ],
   "source": [
    "tworzenie_piosenki(wczytywanie_sciezek(a), b['bpm'])"
   ]
  }
 ],
 "metadata": {
  "kernelspec": {
   "display_name": "Python 3",
   "language": "python",
   "name": "python3"
  },
  "language_info": {
   "codemirror_mode": {
    "name": "ipython",
    "version": 3
   },
   "file_extension": ".py",
   "mimetype": "text/x-python",
   "name": "python",
   "nbconvert_exporter": "python",
   "pygments_lexer": "ipython3",
   "version": "3.4.3"
  }
 },
 "nbformat": 4,
 "nbformat_minor": 0
}
